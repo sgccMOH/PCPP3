{
 "cells": [
  {
   "cell_type": "markdown",
   "metadata": {
    "id": "icORne7dqha_"
   },
   "source": [
    "# Professional Certificate in Python Programming - Module 3"
   ]
  },
  {
   "cell_type": "markdown",
   "metadata": {
    "id": "zFMgL4AVqhbB"
   },
   "source": [
    "## Part 1: Advanced Data Structures"
   ]
  },
  {
   "cell_type": "markdown",
   "metadata": {
    "id": "0liwfJxPqhbC"
   },
   "source": [
    "#### IMMUTABLE VS MUTABLE DATA\n",
    "#### Methods"
   ]
  },
  {
   "cell_type": "code",
   "execution_count": 1,
   "metadata": {
    "id": "nNzxpQ6FqhbC"
   },
   "outputs": [
    {
     "name": "stdout",
     "output_type": "stream",
     "text": [
      "None\n",
      "['peach', 'pumpkin', 'pineapple', 'pomegranate', 'pear']\n"
     ]
    }
   ],
   "source": [
    "# List methods\n",
    "# Can visualize these in pythontutor.com\n",
    "\n",
    "my_list = ['peach', 'pumpkin', 'pineapple']\n",
    "\n",
    "#in-place operation\n",
    "my_list.append('pomegranate')\n",
    "print(my_list.append('pear')) #in-place operations - no output to be printed\n",
    "\n",
    "print(my_list)\n",
    "b_list = my_list\n",
    "\n",
    "#Note how my_list also gets updated\n",
    "b_list.append('papaya')\n",
    "\n",
    "# print(my_list)\n",
    "\n",
    "# #Methods to create true copies\n",
    "list_copy = my_list.copy()\n",
    "list_copy_2 = my_list[:]"
   ]
  },
  {
   "cell_type": "code",
   "execution_count": 2,
   "metadata": {
    "id": "9KNQQsm0qhbC"
   },
   "outputs": [
    {
     "name": "stdout",
     "output_type": "stream",
     "text": [
      "GUITAR\n",
      "guitar\n",
      "GUITAR\n"
     ]
    }
   ],
   "source": [
    "# String methods\n",
    "\n",
    "my_string = \"guitar\"\n",
    "my_string = 'guitar'\n",
    "\n",
    "print(my_string.upper())\n",
    "print(my_string)\n",
    "\n",
    "new_string = my_string.upper()\n",
    "print(new_string)"
   ]
  },
  {
   "cell_type": "markdown",
   "metadata": {
    "id": "03-cqXAnqhbD"
   },
   "source": [
    "#### As variables"
   ]
  },
  {
   "cell_type": "code",
   "execution_count": 3,
   "metadata": {
    "id": "AKXkRnSqqhbD"
   },
   "outputs": [
    {
     "name": "stdout",
     "output_type": "stream",
     "text": [
      "purse!\n",
      "purse\n"
     ]
    }
   ],
   "source": [
    "# Immutable data\n",
    "\n",
    "your_string = 'purse'\n",
    "my_string = your_string\n",
    "\n",
    "my_string += '!'\n",
    "\n",
    "print(my_string)\n",
    "print(your_string)"
   ]
  },
  {
   "cell_type": "code",
   "execution_count": 4,
   "metadata": {
    "id": "zfRTmQzbqhbD"
   },
   "outputs": [
    {
     "name": "stdout",
     "output_type": "stream",
     "text": [
      "['SGD', 'EUR', 'USD', 'YEN']\n",
      "['SGD', 'EUR', 'USD', 'YEN']\n",
      "##########\n",
      "['SGD', 'EUR', 'USD', 'YEN']\n",
      "['SGD', 'EUR', 'USD', 'YEN']\n",
      "['SGD', 'EUR', 'USD', 'YEN', 'MYR']\n"
     ]
    }
   ],
   "source": [
    "# Mutable data\n",
    "\n",
    "your_money = ['SGD', 'EUR', 'USD']\n",
    "my_money = your_money\n",
    "\n",
    "my_money.append('YEN')\n",
    "\n",
    "print(my_money)\n",
    "print(your_money)\n",
    "print('##########')\n",
    "#Creating true copies\n",
    "their_money = my_money[:]\n",
    "their_money.append('MYR')\n",
    "\n",
    "print(my_money)\n",
    "print(your_money)\n",
    "print(their_money)"
   ]
  },
  {
   "cell_type": "markdown",
   "metadata": {
    "id": "TiIXd6r4qhbD"
   },
   "source": [
    "#### As function arguments"
   ]
  },
  {
   "cell_type": "code",
   "execution_count": 5,
   "metadata": {
    "id": "hqCZ2vnqqhbE"
   },
   "outputs": [],
   "source": [
    "# Immutable data\n",
    "\n",
    "def birthday(value):\n",
    "    pass\n"
   ]
  },
  {
   "cell_type": "code",
   "execution_count": 6,
   "metadata": {
    "id": "DIoaapaUqhbE"
   },
   "outputs": [],
   "source": [
    "# Mutable data\n",
    "\n",
    "def birthdays(values):\n",
    "    pass\n"
   ]
  },
  {
   "cell_type": "code",
   "execution_count": 7,
   "metadata": {
    "id": "Qyt3EHQpqhbE"
   },
   "outputs": [
    {
     "name": "stdout",
     "output_type": "stream",
     "text": [
      "[1000, 800, 700, 600, 400]\n",
      "[5000, 1000, 800, 700, 600]\n"
     ]
    }
   ],
   "source": [
    "def leaderboard(scorelist, new_score):\n",
    "    for i in range(len(scorelist)):\n",
    "        if new_score > scorelist[i]:\n",
    "            scorelist.insert(i, new_score)\n",
    "            scorelist.pop()\n",
    "            return scorelist\n",
    "    return scorelist\n",
    "\n",
    "\n",
    "# 1. Try not re-assigning the high_scores variable\n",
    "hi_scores = [1000, 800, 700, 600, 400]\n",
    "\n",
    "print(leaderboard(hi_scores, 100))\n",
    "\n",
    "print(leaderboard(hi_scores, 5000))\n"
   ]
  },
  {
   "cell_type": "code",
   "execution_count": 8,
   "metadata": {
    "id": "2gOLmGyBqhbE"
   },
   "outputs": [
    {
     "name": "stdout",
     "output_type": "stream",
     "text": [
      "None\n",
      "[5000, 1000, 800, 700, 600]\n"
     ]
    }
   ],
   "source": [
    "# 2. Try removing the return statements\n",
    "\n",
    "def leaderboard(scorelist, new_score):\n",
    "    for i in range(len(scorelist)):\n",
    "        if new_score > scorelist[i]:\n",
    "            scorelist.insert(i, new_score)\n",
    "            scorelist.pop()\n",
    "            break\n",
    "    \n",
    "\n",
    "hi_scores = [1000, 800, 700, 600, 400]\n",
    "print(leaderboard(hi_scores, 5000))\n",
    "print(hi_scores)"
   ]
  },
  {
   "cell_type": "markdown",
   "metadata": {
    "id": "uYfomWuWqhbF"
   },
   "source": [
    "#### LIST COMPREHENSION"
   ]
  },
  {
   "cell_type": "code",
   "execution_count": 9,
   "metadata": {
    "id": "6aGcfCQ2qhbF"
   },
   "outputs": [
    {
     "name": "stdout",
     "output_type": "stream",
     "text": [
      "[2, 4, 6, 8, 10, 12, 14, 16, 18, 20]\n"
     ]
    },
    {
     "data": {
      "text/plain": [
       "[2, 4, 6, 8, 10, 12, 14, 16, 18, 20]"
      ]
     },
     "execution_count": 9,
     "metadata": {},
     "output_type": "execute_result"
    }
   ],
   "source": [
    "# Regular for loop\n",
    "alist = []\n",
    "for i in range(1, 11):\n",
    "    alist.append(i*2)\n",
    "\n",
    "print(alist)\n",
    "\n",
    "# List comprehension\n",
    "[i*2 for i in range(1,11)]\n"
   ]
  },
  {
   "cell_type": "code",
   "execution_count": 10,
   "metadata": {
    "id": "RlgGLgqOqhbF"
   },
   "outputs": [
    {
     "name": "stdout",
     "output_type": "stream",
     "text": [
      "['C.', 'O.', 'M.', 'P.', 'R.', 'E.', 'H.', 'E.', 'N.', 'S.', 'I.', 'O.', 'N.']\n",
      "['C.', 'O.', 'M.', 'P.', 'R.', 'E.', 'H.', 'E.', 'N.', 'S.', 'I.', 'O.', 'N.']\n"
     ]
    }
   ],
   "source": [
    "# Regular for loop\n",
    "blist = []\n",
    "for char in \"COMPREHENSION\":\n",
    "    blist.append(char + \".\")\n",
    "print(blist)\n",
    "\n",
    "# List comprehension\n",
    "blist_lc = [char + \".\" for char in \"COMPREHENSION\"]\n",
    "print(blist_lc)"
   ]
  },
  {
   "cell_type": "markdown",
   "metadata": {
    "id": "xQfBd4MgxiIj"
   },
   "source": [
    "#### List Comprehension Exercises – Mapping/Transformations"
   ]
  },
  {
   "cell_type": "code",
   "execution_count": 11,
   "metadata": {
    "id": "3u3HZ2wlqhbF"
   },
   "outputs": [
    {
     "name": "stdout",
     "output_type": "stream",
     "text": [
      "[4, 16, 36, 64, 100, 144, 196, 256, 324, 400]\n",
      "[4, 16, 36, 64, 100, 144, 196, 256, 324, 400]\n"
     ]
    }
   ],
   "source": [
    "#Squares\n",
    "\n",
    "squares_list = [(i*2)**2 for i in range(1,11)]\n",
    "print(squares_list)\n",
    "\n",
    "#Alternative\n",
    "squares_list_alt = [even ** 2 for even in range(2,21,2)]\n",
    "print(squares_list_alt)"
   ]
  },
  {
   "cell_type": "code",
   "execution_count": 12,
   "metadata": {
    "id": "HjKZPNZnqhbF"
   },
   "outputs": [
    {
     "data": {
      "text/plain": [
       "[\"i'd\", 'rather', 'be', 'a', 'bird', 'than', 'a', 'fish']"
      ]
     },
     "execution_count": 12,
     "metadata": {},
     "output_type": "execute_result"
    }
   ],
   "source": [
    "#Lowercase\n",
    "mixed = [\"I'D\", \"rAtheR\", \"Be\", \"a\", \"bIrD\", \"tHan\", \"A\", \"FIsh\"]\n",
    "\n",
    "[word.lower() for word in mixed]"
   ]
  },
  {
   "cell_type": "code",
   "execution_count": 13,
   "metadata": {
    "id": "YTDtPgFgqhbF"
   },
   "outputs": [
    {
     "data": {
      "text/plain": [
       "[1, 2, 1, 1, 1, 1, 1, 1]"
      ]
     },
     "execution_count": 13,
     "metadata": {},
     "output_type": "execute_result"
    }
   ],
   "source": [
    "#Counting vowels\n",
    "def count_vowels(word):\n",
    "    letters = list(word)\n",
    "    vowels = list('AEIOUaeiou')\n",
    "    count = 0 \n",
    "    for letter in letters:\n",
    "        if letter in vowels:\n",
    "          count += 1\n",
    "    return count\n",
    "\n",
    "[count_vowels(word) for word in mixed]\n"
   ]
  },
  {
   "cell_type": "markdown",
   "metadata": {
    "id": "etgBm9h4qhbF"
   },
   "source": [
    "#### List Comprehension – Filtering"
   ]
  },
  {
   "cell_type": "code",
   "execution_count": 14,
   "metadata": {
    "id": "EfBs2ka0qhbG"
   },
   "outputs": [
    {
     "name": "stdout",
     "output_type": "stream",
     "text": [
      "[13, 26, 39, 52, 65, 78, 91]\n"
     ]
    }
   ],
   "source": [
    "# Regular for loop with if\n",
    "\n",
    "multiples_13 =[]\n",
    "\n",
    "for i in range(1, 101):\n",
    "    if i % 13 == 0:\n",
    "        multiples_13.append(i)\n",
    "print(multiples_13)"
   ]
  },
  {
   "cell_type": "code",
   "execution_count": 15,
   "metadata": {
    "id": "uz43EPMLqhbG"
   },
   "outputs": [
    {
     "name": "stdout",
     "output_type": "stream",
     "text": [
      "[13, 26, 39, 52, 65, 78, 91]\n"
     ]
    }
   ],
   "source": [
    "# List comprehension\n",
    "\n",
    "multiples_13_lc =[]\n",
    "# Syntax: [expression iteration condition]:\n",
    "\n",
    "multiples_13_lc = [i for i in range(1, 101) if i % 13 == 0]\n",
    "\n",
    "print(multiples_13_lc)"
   ]
  },
  {
   "cell_type": "code",
   "execution_count": 16,
   "metadata": {
    "id": "akKZVQN4qhbG"
   },
   "outputs": [
    {
     "name": "stdout",
     "output_type": "stream",
     "text": [
      "['crooked', 'hillary', 'the', 'to']\n",
      "['crooked', 'hillary', 'the', 'to']\n"
     ]
    }
   ],
   "source": [
    "# Filtering - Exercise\n",
    "\n",
    "line_a = \"Crooked Hillary doesn't have the stamina to make America great again\"\n",
    "line_b = \"We need to keep crooked Hillary Clinton out of the white house\"\n",
    "\n",
    "words_a = line_a.lower().split()\n",
    "words_b = line_b.lower().split()\n",
    "\n",
    "# print(words_a)\n",
    "# print(words_b)\n",
    "# with for loop\n",
    "\n",
    "common_words = []\n",
    "for word in words_a:\n",
    "    if word in words_b:\n",
    "        common_words.append(word)\n",
    "print(common_words)\n",
    "\n",
    "#  with list comprehension\n",
    "common = [word for word in words_a if word in words_b]\n",
    "print(common)"
   ]
  },
  {
   "cell_type": "code",
   "execution_count": 17,
   "metadata": {
    "id": "Lq6D9xvsqhbG"
   },
   "outputs": [
    {
     "name": "stdout",
     "output_type": "stream",
     "text": [
      "['crooked', 'hillary']\n",
      "['crooked', 'hillary']\n"
     ]
    }
   ],
   "source": [
    "# Filtering with multiple conditions\n",
    "\n",
    "exclude = \"a an the at by for from in into like of off on onto out than to up with\".split()\n",
    "\n",
    "line_a = \"Crooked Hillary doesn't have the stamina to make America great again\"\n",
    "line_b = \"We need to keep crooked Hillary Clinton out of the white house\"\n",
    "\n",
    "words_a = line_a.lower().split()\n",
    "words_b = line_b.lower().split()\n",
    "\n",
    "# with for loop\n",
    "common_words = []\n",
    "for word in words_a:\n",
    "    if word in words_b:\n",
    "        if word not in exclude:\n",
    "            common_words.append(word)\n",
    "print(common_words)\n",
    "\n",
    "#  with list comprehension\n",
    "common = [word      for word in words_a       if word in words_b      if word not in exclude]\n",
    "print(common)\n"
   ]
  },
  {
   "cell_type": "code",
   "execution_count": 18,
   "metadata": {
    "id": "KMHDGp31qhbG"
   },
   "outputs": [
    {
     "name": "stdout",
     "output_type": "stream",
     "text": [
      "['CROOKED', 'HILLARY', '########', '########', 'THE', '########', 'TO', '########', '########', '########', '########']\n",
      "['CROOKED', 'HILLARY', '#########', '#########', 'THE', '#########', 'TO', '#########', '#########', '#########', '#########']\n"
     ]
    }
   ],
   "source": [
    "# List comprehension with if-else\n",
    "line_a = \"Crooked Hillary doesn't have the stamina to make America great again\"\n",
    "line_b = \"We need to keep crooked Hillary Clinton out of the white house\"\n",
    "\n",
    "words_a = line_a.lower().split()\n",
    "words_b = line_b.lower().split()\n",
    "# with for loop\n",
    "common_words = []\n",
    "for word in words_a:\n",
    "    if word in words_b:\n",
    "        common_words.append(word.upper()) #Expression 1 under IF clause\n",
    "    else:\n",
    "        common_words.append(\"########\") #Expression 2 under Else clause\n",
    "\n",
    "print(common_words)\n",
    "# with list comprehension\n",
    "\n",
    "# [expression 1     if-else expression 2    iteration]\n",
    "common_lc = [word.upper() if word in words_b      else \"#########\"     for word in words_a]\n",
    "print(common_lc)\n"
   ]
  },
  {
   "cell_type": "markdown",
   "metadata": {
    "id": "877eNCxoqhbG"
   },
   "source": [
    "#### List Comprehensions – Further examples"
   ]
  },
  {
   "cell_type": "code",
   "execution_count": 19,
   "metadata": {
    "id": "xk_JrN1ZqhbG"
   },
   "outputs": [
    {
     "name": "stdout",
     "output_type": "stream",
     "text": [
      "[1, 2, 3, 4, 5, 6, 7, 8]\n",
      "[1, 2, 3, 4, 5, 6, 7, 8]\n"
     ]
    }
   ],
   "source": [
    "# Flattening a matrix\n",
    "\n",
    "matrix = [[1,2,3,4],\n",
    "          [5,6,7,8]]\n",
    "\n",
    "# with nested for loops\n",
    "flat = []\n",
    "for row in matrix:\n",
    "    for num in row:\n",
    "        flat.append(num)\n",
    "print(flat)\n",
    "\n",
    "# with list comprehension\n",
    "flat_lc = [num for row in matrix for num in row]\n",
    "print(flat_lc)"
   ]
  },
  {
   "cell_type": "code",
   "execution_count": 20,
   "metadata": {
    "id": "qIo4wOdJqhbG"
   },
   "outputs": [
    {
     "name": "stdout",
     "output_type": "stream",
     "text": [
      "[1, 2, 3, 4, 5, 6, '7-Up', 8, 9, 10, 11, 12, 13, '7-Up', 15, 16, '7-Up', 18, 19, 20, '7-Up', 22, 23, 24, 25, 26, '7-Up', '7-Up', 29, 30, 31, 32, 33, 34, '7-Up', 36, '7-Up', 38, 39, 40, 41, '7-Up', 43, 44, 45, 46, '7-Up', 48, '7-Up', 50, 51, 52, 53, 54, 55, '7-Up', '7-Up', 58, 59, 60, 61, 62, '7-Up', 64, 65, 66, '7-Up', 68, 69, '7-Up', '7-Up', '7-Up', '7-Up', '7-Up', '7-Up', '7-Up', '7-Up', '7-Up', '7-Up', 80, 81, 82, 83, '7-Up', 85, 86, '7-Up', 88, 89, 90, '7-Up', 92, 93, 94, 95, 96, '7-Up', '7-Up', 99, 100]\n",
      "\n",
      "[1, 2, 3, 4, 5, 6, '7-Up', 8, 9, 10, 11, 12, 13, '7-Up', 15, 16, '7-Up', 18, 19, 20, '7-Up', 22, 23, 24, 25, 26, '7-Up', '7-Up', 29, 30, 31, 32, 33, 34, '7-Up', 36, '7-Up', 38, 39, 40, 41, '7-Up', 43, 44, 45, 46, '7-Up', 48, '7-Up', 50, 51, 52, 53, 54, 55, '7-Up', '7-Up', 58, 59, 60, 61, 62, '7-Up', 64, 65, 66, '7-Up', 68, 69, '7-Up', '7-Up', '7-Up', '7-Up', '7-Up', '7-Up', '7-Up', '7-Up', '7-Up', '7-Up', 80, 81, 82, 83, '7-Up', 85, 86, '7-Up', 88, 89, 90, '7-Up', 92, 93, 94, 95, 96, '7-Up', '7-Up', 99, 100]\n"
     ]
    }
   ],
   "source": [
    "# 7-Up revisited\n",
    "\n",
    "# with for loops\n",
    "seven_up = []\n",
    "for i in range(1, 101):\n",
    "    if i % 7 == 0 or '7' in str(i):\n",
    "        seven_up.append('7-Up')\n",
    "    else:\n",
    "        seven_up.append(i)\n",
    "print(seven_up)\n",
    "\n",
    "# with list comprehension\n",
    "seven_up_lc = ['7-Up' if i % 7 == 0 or '7' in str(i)    else i         for i in range(1,101)]\n",
    "print()\n",
    "print(seven_up_lc)\n"
   ]
  },
  {
   "cell_type": "code",
   "execution_count": 21,
   "metadata": {
    "id": "WhRDO3i2qhbG"
   },
   "outputs": [
    {
     "name": "stdout",
     "output_type": "stream",
     "text": [
      "[['hi', 'HI', 'Hi'], ['hello', 'HELLO', 'Hello'], ['hola', 'HOLA', 'Hola']]\n",
      "[['hi', 'HI', 'Hi'], ['hello', 'HELLO', 'Hello'], ['hola', 'HOLA', 'Hola']]\n"
     ]
    }
   ],
   "source": [
    "# Nested lists from 1D list\n",
    "\n",
    "greetings = [\"hi\", \"hello\", \"hola\"]\n",
    "\n",
    "# with for loops\n",
    "\n",
    "nested = []\n",
    "for word in greetings:\n",
    "    nested.append([word.lower(), word.upper(), word.title()])\n",
    "print(nested)\n",
    "\n",
    "# with list comprehension\n",
    "nested_lc = [[word.lower(), word.upper(), word.title()] for word in greetings]\n",
    "print(nested_lc)\n"
   ]
  },
  {
   "cell_type": "code",
   "execution_count": 22,
   "metadata": {},
   "outputs": [
    {
     "name": "stdout",
     "output_type": "stream",
     "text": [
      "['underweight', 'acceptable', 'overweight', 'overweight', 'obese', 'overweight', 'obese']\n"
     ]
    }
   ],
   "source": [
    "#what if we have more conditions that we want to include (elifs)?\n",
    "\n",
    "bmi = [17, 18, 25, 27, 38, 29, 35]\n",
    "\n",
    "weight_bmi = []\n",
    "\n",
    "for num in bmi:\n",
    "    if num < 18:\n",
    "        weight_bmi.append( \"underweight\")\n",
    "    elif num < 25:\n",
    "        weight_bmi.append( \"acceptable\")\n",
    "    elif num < 30:\n",
    "        weight_bmi.append( \"overweight\")\n",
    "    else:\n",
    "        weight_bmi.append( \"obese\")\n",
    "\n",
    "print(weight_bmi)\n"
   ]
  },
  {
   "cell_type": "code",
   "execution_count": 23,
   "metadata": {},
   "outputs": [
    {
     "name": "stdout",
     "output_type": "stream",
     "text": [
      "['underweight', 'acceptable', 'overweight', 'overweight', 'obese', 'overweight', 'obese']\n"
     ]
    }
   ],
   "source": [
    "def weight_cat(bmi):\n",
    "    if bmi < 18:\n",
    "        return \"underweight\"\n",
    "    elif bmi < 25:\n",
    "        return \"acceptable\"\n",
    "    elif bmi < 30:\n",
    "        return \"overweight\"\n",
    "    else:\n",
    "        return \"obese\"\n",
    "weight_bmi_lc = [weight_cat(num) for num in bmi]\n",
    "print(weight_bmi_lc)"
   ]
  },
  {
   "cell_type": "code",
   "execution_count": 24,
   "metadata": {},
   "outputs": [
    {
     "name": "stdout",
     "output_type": "stream",
     "text": [
      "The Zen of Python, by Tim Peters\n",
      "\n",
      "Beautiful is better than ugly.\n",
      "Explicit is better than implicit.\n",
      "Simple is better than complex.\n",
      "Complex is better than complicated.\n",
      "Flat is better than nested.\n",
      "Sparse is better than dense.\n",
      "Readability counts.\n",
      "Special cases aren't special enough to break the rules.\n",
      "Although practicality beats purity.\n",
      "Errors should never pass silently.\n",
      "Unless explicitly silenced.\n",
      "In the face of ambiguity, refuse the temptation to guess.\n",
      "There should be one-- and preferably only one --obvious way to do it.\n",
      "Although that way may not be obvious at first unless you're Dutch.\n",
      "Now is better than never.\n",
      "Although never is often better than *right* now.\n",
      "If the implementation is hard to explain, it's a bad idea.\n",
      "If the implementation is easy to explain, it may be a good idea.\n",
      "Namespaces are one honking great idea -- let's do more of those!\n"
     ]
    }
   ],
   "source": [
    "#Readability counts!\n",
    "\n",
    "import this"
   ]
  },
  {
   "cell_type": "markdown",
   "metadata": {
    "id": "6iT46KddqhbG"
   },
   "source": [
    "#### Dictionary Comprehensions"
   ]
  },
  {
   "cell_type": "code",
   "execution_count": 25,
   "metadata": {
    "id": "kKVDrdcCqhbG"
   },
   "outputs": [
    {
     "name": "stdout",
     "output_type": "stream",
     "text": [
      "{1: 1, 2: 4, 3: 9, 4: 16, 5: 25, 6: 36, 7: 49, 8: 64, 9: 81, 10: 100}\n",
      "{1: 1, 2: 4, 3: 9, 4: 16, 5: 25, 6: 36, 7: 49, 8: 64, 9: 81, 10: 100}\n"
     ]
    }
   ],
   "source": [
    "# with for loop\n",
    "\n",
    "squares_dict = {}\n",
    "\n",
    "for i in range(1,11):\n",
    "    squares_dict[i] = i ** 2\n",
    "print(squares_dict)\n",
    "\n",
    "# with dictionary comprehension\n",
    "squares_dict_dc = { i:i**2 for i in range(1,11)}\n",
    "print(squares_dict_dc)\n",
    "\n"
   ]
  },
  {
   "cell_type": "code",
   "execution_count": 26,
   "metadata": {
    "id": "rrukAgIQqhbG"
   },
   "outputs": [
    {
     "name": "stdout",
     "output_type": "stream",
     "text": [
      "{'bread': 4.36, 'bananas': 3.2700000000000005, 'eggs': 2.18, 'juice': 6.540000000000001, 'milk': 5.45}\n",
      "{'bread': 4, 'bananas': 3, 'eggs': 2, 'juice': 7, 'milk': 5}\n"
     ]
    }
   ],
   "source": [
    "# create new dict from existing dict\n",
    "\n",
    "prices = {\"bread\": 4, \"bananas\": 3, \"eggs\": 2, \"juice\": 6, \"milk\": 5}\n",
    "\n",
    "# with for loop\n",
    "prices_gst = {}\n",
    "\n",
    "for key in prices:\n",
    "    prices_gst[key] = prices[key] * 1.09\n",
    "print(prices_gst)\n",
    "# with dictionary comprehension\n",
    "\n",
    "prices_gst_dc = {key : round(prices[key] * 1.09) for key in prices}\n",
    "print(prices_gst_dc)\n"
   ]
  },
  {
   "cell_type": "code",
   "execution_count": 27,
   "metadata": {
    "id": "a-Ddz-HoqhbH"
   },
   "outputs": [
    {
     "name": "stdout",
     "output_type": "stream",
     "text": [
      "['aljunied', 'bugis', 'commonwealth', 'downtown', 'esplanade']\n",
      "{'a': 'aljunied', 'b': 'bugis', 'c': 'commonwealth', 'd': 'downtown', 'e': 'esplanade'}\n",
      "{'a': 'aljunied', 'b': 'bugis', 'c': 'commonwealth', 'd': 'downtown', 'e': 'esplanade'}\n"
     ]
    }
   ],
   "source": [
    "# create dict from list\n",
    "\n",
    "stations = \"aljunied, bugis, commonwealth, downtown, esplanade\".split(\", \")\n",
    "print(stations)\n",
    "\n",
    "#Check the indexing:\n",
    "# print(stations[0][0])\n",
    "\n",
    "# with for loop\n",
    "stations_dict= {}\n",
    "for stn in stations:\n",
    "    stations_dict[stn[0]]= stn\n",
    "print(stations_dict)\n",
    "\n",
    "# with dictionary comprehension\n",
    "stations_dict_dc = {stn[0]:stn for stn in stations}\n",
    "print(stations_dict_dc)\n"
   ]
  },
  {
   "cell_type": "code",
   "execution_count": 28,
   "metadata": {
    "id": "zoGeHMy_qhbH"
   },
   "outputs": [
    {
     "name": "stdout",
     "output_type": "stream",
     "text": [
      "{'aljunied': 'a', 'bugis': 'b', 'commonwealth': 'c', 'downtown': 'd', 'esplanade': 'e'}\n",
      "{'aljunied': 'a', 'bugis': 'b', 'commonwealth': 'c', 'downtown': 'd', 'esplanade': 'e'}\n"
     ]
    }
   ],
   "source": [
    "# switch keys and values\n",
    "\n",
    "# with for loop\n",
    "stations_rev = {}\n",
    "\n",
    "for key, value in stations_dict.items():\n",
    "    # print(key, value) #to understand the loop variables and .items()\n",
    "\n",
    "    stations_rev[value] = key\n",
    "print(stations_rev)\n",
    "\n",
    "# with dictionary comprehension\n",
    "stations_rev_dc = { value:key for key, value in stations_dict.items()}\n",
    "print(stations_rev_dc)\n"
   ]
  },
  {
   "cell_type": "code",
   "execution_count": 29,
   "metadata": {},
   "outputs": [
    {
     "data": {
      "text/plain": [
       "{'a': 1, 'b': 2, 'c': 3}"
      ]
     },
     "execution_count": 29,
     "metadata": {},
     "output_type": "execute_result"
    }
   ],
   "source": [
    "#aside: zip() - create a dictionary using two lists\n",
    "\n",
    "keys = [\"a\", \"b\", \"c\"]\n",
    "values = [1, 2, 3]\n",
    "\n",
    "adict_dc = {key:value for key,value in zip(keys, values)}\n",
    "adict_dc"
   ]
  },
  {
   "cell_type": "code",
   "execution_count": 30,
   "metadata": {},
   "outputs": [
    {
     "name": "stdout",
     "output_type": "stream",
     "text": [
      "<class 'zip'>\n",
      "a\n",
      "1\n",
      "('a', 1)\n",
      "b\n",
      "2\n",
      "('b', 2)\n",
      "c\n",
      "3\n",
      "('c', 3)\n"
     ]
    }
   ],
   "source": [
    "keys = [\"a\", \"b\", \"c\"]\n",
    "values = [1, 2, 3]\n",
    "\n",
    "zipped_values = zip(keys, values)\n",
    "print(type(zipped_values))\n",
    "\n",
    "for item in zipped_values :\n",
    "    print(item[0])\n",
    "    print(item[1])\n",
    "    print(item)"
   ]
  },
  {
   "cell_type": "code",
   "execution_count": 31,
   "metadata": {},
   "outputs": [
    {
     "name": "stdout",
     "output_type": "stream",
     "text": [
      "{'a': 1, 'b': 2, 'c': 3}\n",
      "{'c': 3}\n"
     ]
    }
   ],
   "source": [
    "#Dictionary comprehensions with filtering\n",
    "\n",
    "print(adict_dc)\n",
    "filter_dict_dc = {k:v for k,v in adict_dc.items() if v >2}\n",
    "print(filter_dict_dc)"
   ]
  },
  {
   "cell_type": "markdown",
   "metadata": {
    "id": "rJA2pNflqhbH"
   },
   "source": [
    "## Part 2: Advanced Functions"
   ]
  },
  {
   "cell_type": "markdown",
   "metadata": {
    "id": "r2qJXsJjqhbH"
   },
   "source": [
    "#### POSITIONAL AND KEYWORD ARGUMENTS"
   ]
  },
  {
   "cell_type": "code",
   "execution_count": 32,
   "metadata": {
    "id": "jGKUajq_qhbH"
   },
   "outputs": [
    {
     "name": "stdout",
     "output_type": "stream",
     "text": [
      "0.5\n",
      "5.0\n",
      "\n",
      "0.5\n",
      "0.2\n",
      "0.2\n"
     ]
    }
   ],
   "source": [
    "def quotient(a, b):\n",
    "    return a/b\n",
    "\n",
    "#passing in positional arguments\n",
    "print(quotient(1,2))\n",
    "print(quotient(10,2))\n",
    "print()\n",
    "\n",
    "#passing in keyword arguments\n",
    "print(quotient(a=1,b=2))\n",
    "print(quotient(b=10,a=2))\n",
    "\n",
    "#test \n",
    "print(quotient(2, b=10)) #no error\n",
    "# print(quotient(10, a=2)) #error\n",
    "# print(quotient(b=2, 10)) #error\n",
    "# print(quotient(a=2, 10)) #error"
   ]
  },
  {
   "cell_type": "markdown",
   "metadata": {
    "id": "aapF6p5kqhbH"
   },
   "source": [
    "#### Default (optional) arguments"
   ]
  },
  {
   "cell_type": "code",
   "execution_count": 33,
   "metadata": {
    "id": "5uNuggM2qhbH"
   },
   "outputs": [
    {
     "name": "stdout",
     "output_type": "stream",
     "text": [
      "0\n",
      "1\n",
      "2\n",
      "0\n",
      "2\n",
      "0\n"
     ]
    }
   ],
   "source": [
    "def remainder(number, divisor=5):\n",
    "    return number % divisor\n",
    "\n",
    "print(remainder(9, 3))\n",
    "print(remainder(10, 3))\n",
    "print(remainder(11, 3))\n",
    "print(remainder(12, divisor=3))\n",
    "print(remainder(12))\n",
    "\n",
    "print(remainder(divisor=4, number=12)) #This is fine\n",
    "# print(remainder(divisor=4, 12)) #Error"
   ]
  },
  {
   "cell_type": "code",
   "execution_count": 34,
   "metadata": {
    "id": "oem3ytB6qhbH"
   },
   "outputs": [
    {
     "name": "stdout",
     "output_type": "stream",
     "text": [
      "Converting from USD\n",
      "76.92307692307692\n",
      "Converting from JPY\n",
      "0.9090909090909091\n"
     ]
    }
   ],
   "source": [
    "# default arguments example\n",
    "\n",
    "def convert_sgd(amount, curr='usd'):\n",
    "    if curr == 'usd':\n",
    "        print('Converting from USD')\n",
    "        return amount / 1.30\n",
    "    elif curr == 'jpy':\n",
    "        print('Converting from JPY')\n",
    "        return amount / 110\n",
    "    elif curr == 'myr':\n",
    "        print('Converting from MYR')\n",
    "        return amount / 3.19\n",
    "    else:\n",
    "        print('No currency chosen!')\n",
    "\n",
    "print(convert_sgd(100))\n",
    "\n",
    "print(convert_sgd(100, 'jpy'))\n"
   ]
  },
  {
   "cell_type": "code",
   "execution_count": 35,
   "metadata": {
    "id": "ZzGcYppRqhbH"
   },
   "outputs": [
    {
     "name": "stdout",
     "output_type": "stream",
     "text": [
      "good bye !\n",
      "good####bye####!\n",
      "good\t\t\tbye\t\t\t!\n",
      "\n",
      "line 1\n",
      "line 2\n",
      "\n",
      "line 1\n",
      "\n",
      "\n",
      "line 2\n",
      "line1\n",
      "line2\n",
      "line3\n",
      "line4endoflinetest\n"
     ]
    }
   ],
   "source": [
    "# default arguments in print()\n",
    "\n",
    "print(\"good\", \"bye\", \"!\") #default behaviour\n",
    "\n",
    "# sep argument \n",
    "print(\"good\", \"bye\", \"!\", sep='####') #sep parameters\n",
    "print(\"good\", \"bye\", \"!\", sep='\\t\\t\\t') #sep parameters\n",
    "print()\n",
    "\n",
    "# end argument\n",
    "\n",
    "print(\"line 1\")\n",
    "print(\"line 2\")\n",
    "print()\n",
    "\n",
    "print(\"line 1\", end='\\n\\n\\n')\n",
    "print(\"line 2\")\n",
    "\n",
    "\n",
    "print(\"line1\", \"line2\", \"line3\", \"line4\", sep='\\n', end=\"endofline\")\n",
    "print(\"test\")\n",
    "\n"
   ]
  },
  {
   "cell_type": "code",
   "execution_count": 36,
   "metadata": {},
   "outputs": [
    {
     "name": "stdout",
     "output_type": "stream",
     "text": [
      "one\tun\t\n",
      "two\tdeux\t\n",
      "three\ttroi\t\n"
     ]
    }
   ],
   "source": [
    "# exercise: default arguments\n",
    "def print_table(wordlist, num_col):\n",
    "    #Seperate by tabs:\n",
    "    for i in range(len(wordlist)):\n",
    "        print(wordlist[i], end = '\\t')\n",
    "    \n",
    "        #New line logic: (index) % num_col == 0:\n",
    "        if (i+1) % num_col == 0 :\n",
    "            print()\n",
    "    \n",
    "print_table([\"one\", \"un\", \"two\", \"deux\", \"three\", \"troi\"], 2)\n"
   ]
  },
  {
   "cell_type": "markdown",
   "metadata": {
    "id": "43F-WuyEqhbH"
   },
   "source": [
    "#### ARBITRARY NUMBER OF ARGUMENTS"
   ]
  },
  {
   "cell_type": "code",
   "execution_count": 37,
   "metadata": {
    "id": "443tPaa_qhbH"
   },
   "outputs": [
    {
     "name": "stdout",
     "output_type": "stream",
     "text": [
      "Positional arguments:  ()\n",
      "Keyword arguments:  {}\n",
      "\n",
      "Positional arguments:  (1, 2, 3)\n",
      "Keyword arguments:  {}\n",
      "\n",
      "Positional arguments:  (1, 2, 3)\n",
      "Keyword arguments:  {'d': 4}\n",
      "\n",
      "Positional arguments:  (1, 2, 3, 5)\n",
      "Keyword arguments:  {'d': 4, 'a': 'string'}\n"
     ]
    }
   ],
   "source": [
    "# args & kwargs\n",
    "\n",
    "def flexi(*args, **kwargs):\n",
    "    print(\"Positional arguments: \", args)\n",
    "    print(\"Keyword arguments: \", kwargs)\n",
    "\n",
    "flexi()\n",
    "print()\n",
    "\n",
    "flexi(1,2,3)\n",
    "print()\n",
    "\n",
    "flexi(1, 2, 3, d=4)\n",
    "print()\n",
    "\n",
    "flexi(1, 2, 3, 5, d=4, a=\"string\")"
   ]
  },
  {
   "cell_type": "code",
   "execution_count": 38,
   "metadata": {},
   "outputs": [
    {
     "name": "stdout",
     "output_type": "stream",
     "text": [
      "number:  1\n",
      "Positional arguments:  ()\n",
      "Keyword arguments:  {}\n",
      "number:  1\n",
      "Positional arguments:  (10, 20, 30)\n",
      "Keyword arguments:  {'b': 'a string'}\n"
     ]
    }
   ],
   "source": [
    "\n",
    "def flexi2(number, *args, **kwargs):\n",
    "    print(\"number: \", number)\n",
    "    print(\"Positional arguments: \", args)\n",
    "    print(\"Keyword arguments: \", kwargs)\n",
    "\n",
    "flexi2(1)\n",
    "\n",
    "flexi2(1, 10, 20, 30, b=\"a string\")\n"
   ]
  },
  {
   "cell_type": "code",
   "execution_count": 39,
   "metadata": {
    "id": "z9CLap7mqhbH"
   },
   "outputs": [
    {
     "name": "stdout",
     "output_type": "stream",
     "text": [
      "1.0\n",
      "1.5\n",
      "5.0\n"
     ]
    }
   ],
   "source": [
    "# exercise 1: args\n",
    "\n",
    "def mean(*numbers):\n",
    "    return sum(numbers)/len(numbers)\n",
    "print(mean(1))\n",
    "print(mean(1,2))\n",
    "print(mean(1,2,3,4,5,6,7,8,9))"
   ]
  },
  {
   "cell_type": "code",
   "execution_count": 40,
   "metadata": {
    "id": "FBkw07irqhbH"
   },
   "outputs": [
    {
     "name": "stdout",
     "output_type": "stream",
     "text": [
      "[10, 20, 30, 40, 50, 60, 70, 80, 90]\n",
      "50.0\n"
     ]
    }
   ],
   "source": [
    "# exercise 2: args\n",
    "\n",
    "def mean_base(base, *numbers):\n",
    "    new_numbers = [ base*number for number in numbers] #Using list comprehension to create a new list\n",
    "    print(new_numbers)\n",
    "    return sum(new_numbers)/len(new_numbers)\n",
    "    \n",
    "print(mean_base(10, 1,2,3,4,5,6,7,8,9))"
   ]
  },
  {
   "cell_type": "code",
   "execution_count": 41,
   "metadata": {},
   "outputs": [
    {
     "name": "stdout",
     "output_type": "stream",
     "text": [
      "50.0\n"
     ]
    }
   ],
   "source": [
    "#Alternatively\n",
    "def mean_base_simple(base, *numbers):\n",
    "    return base*sum(numbers)/len(numbers) #Just scale the average will yield the same results\n",
    "\n",
    "print(mean_base_simple(10, 1,2,3,4,5,6,7,8,9))"
   ]
  },
  {
   "cell_type": "code",
   "execution_count": 42,
   "metadata": {
    "id": "bR6twk29qhbH"
   },
   "outputs": [
    {
     "name": "stdout",
     "output_type": "stream",
     "text": [
      "The amount spent on food: $400.\n",
      "The amount spent on transport: $200.\n",
      "The amount spent on groceries: $200.\n",
      "The amount spent on utilities: $100.\n"
     ]
    }
   ],
   "source": [
    "# exercise: kwargs\n",
    "\n",
    "def print_expenses(**expenses):\n",
    "    for key, value in expenses.items():\n",
    "        print(f\"The amount spent on {key}: ${value}.\")\n",
    "print_expenses(food=400, transport=200, groceries=200, utilities=100)"
   ]
  },
  {
   "cell_type": "code",
   "execution_count": 43,
   "metadata": {},
   "outputs": [
    {
     "name": "stdout",
     "output_type": "stream",
     "text": [
      "The amount spent on food: $400.\n",
      "The amount spent on transport: $200.\n",
      "The amount spent on groceries: $200.\n",
      "The amount spent on utilities: $100.\n",
      "The largest amount spend was on food ($400).\n"
     ]
    }
   ],
   "source": [
    "# exercise: kwargs (Bonus)\n",
    "\n",
    "def print_expenses(**expenses):\n",
    "    largest = 0\n",
    "    for key, value in expenses.items():\n",
    "        print(f\"The amount spent on {key}: ${value}.\")\n",
    "        if value > largest:\n",
    "            largest = value\n",
    "            item = key\n",
    "    print(f\"The largest amount spend was on {item} (${largest}).\")\n",
    "print_expenses(food=400, transport=200, groceries=200, utilities=100)"
   ]
  },
  {
   "cell_type": "markdown",
   "metadata": {
    "id": "UoJw0hugqhbH"
   },
   "source": [
    "#### RECURSION"
   ]
  },
  {
   "cell_type": "code",
   "execution_count": 44,
   "metadata": {
    "id": "badW2oLDqhbH"
   },
   "outputs": [
    {
     "name": "stdout",
     "output_type": "stream",
     "text": [
      "Cutting 100 in half: 50.0\n",
      "Cutting 50.0 in half: 25.0\n",
      "Cutting 25.0 in half: 12.5\n",
      "Cutting 12.5 in half: 6.25\n",
      "Cutting 6.25 in half: 3.125\n",
      "3.125 is too small to halve.\n"
     ]
    }
   ],
   "source": [
    "# Halving numbers\n",
    "\n",
    "def half_loop(size):\n",
    "    while size > 5:\n",
    "        print(f\"Cutting {size} in half: {size/2}\")\n",
    "        size = size / 2\n",
    "    print(f\"{size} is too small to halve.\")\n",
    "\n",
    "half_loop(100)"
   ]
  },
  {
   "cell_type": "code",
   "execution_count": 45,
   "metadata": {},
   "outputs": [
    {
     "name": "stdout",
     "output_type": "stream",
     "text": [
      "Cutting 100 in half: 50.0\n",
      "Cutting 50.0 in half: 25.0\n",
      "Cutting 25.0 in half: 12.5\n",
      "Cutting 12.5 in half: 6.25\n",
      "Cutting 6.25 in half: 3.125\n",
      "3.125 is too small to halve.\n"
     ]
    }
   ],
   "source": [
    "def half_rec(size):\n",
    "    if size < 5:\n",
    "        print(f\"{size} is too small to halve.\")\n",
    "    else:\n",
    "        print(f\"Cutting {size} in half: {size/2}\")\n",
    "        half_rec(size/2)\n",
    "half_rec(100)"
   ]
  },
  {
   "cell_type": "code",
   "execution_count": 46,
   "metadata": {
    "id": "PcJ5yyQ7qhbH"
   },
   "outputs": [
    {
     "name": "stdout",
     "output_type": "stream",
     "text": [
      "10\n",
      "9\n",
      "8\n",
      "7\n",
      "6\n",
      "5\n",
      "4\n",
      "3\n",
      "2\n",
      "1\n",
      "0\n"
     ]
    }
   ],
   "source": [
    "# Countdown\n",
    "\n",
    "def countdown(n):\n",
    "    print(n)\n",
    "    if n > 0:\n",
    "        countdown(n-1)\n",
    "countdown(10)"
   ]
  },
  {
   "cell_type": "code",
   "execution_count": 47,
   "metadata": {
    "id": "DWaFXG93qhbH"
   },
   "outputs": [
    {
     "name": "stdout",
     "output_type": "stream",
     "text": [
      "You rolled a 3 and a 5.\n",
      "####\n",
      "You rolled a 2 and a 4.\n",
      "####\n",
      "You rolled a 2 and a 2.\n",
      "Congrats, you rolled doubles! Roll again.\n",
      "You rolled a 4 and a 1.\n",
      "####\n",
      "You rolled a 6 and a 5.\n",
      "####\n",
      "You rolled a 4 and a 6.\n",
      "####\n"
     ]
    }
   ],
   "source": [
    "# Dice\n",
    "\n",
    "import random\n",
    "\n",
    "def roll_two_dice():\n",
    "    # Generate two rolls\n",
    "    roll1 = random.randint(1,6)\n",
    "    roll2 = random.randint(1,6)\n",
    "\n",
    "    # What are the rolls? - Print them out\n",
    "    print(f\"You rolled a {roll1} and a {roll2}.\")\n",
    "\n",
    "    # Check if the dice are equal -> if they are, call roll_two_dice()\n",
    "    if roll1 == roll2:\n",
    "        print(\"Congrats, you rolled doubles! Roll again.\")\n",
    "        roll_two_dice()\n",
    "\n",
    "for i in range(5):\n",
    "    roll_two_dice()\n",
    "    print(\"####\")"
   ]
  },
  {
   "cell_type": "code",
   "execution_count": 48,
   "metadata": {
    "id": "uwh8bYtZqhbI"
   },
   "outputs": [
    {
     "name": "stdin",
     "output_type": "stream",
     "text": [
      "Please guess a number from 1 to 10:  1\n"
     ]
    },
    {
     "name": "stdout",
     "output_type": "stream",
     "text": [
      "Sorry you did not win, better luck next time!\n"
     ]
    },
    {
     "name": "stdin",
     "output_type": "stream",
     "text": [
      "Do you want to try again? (Y/N) y\n",
      "Please guess a number from 1 to 10:  3\n"
     ]
    },
    {
     "name": "stdout",
     "output_type": "stream",
     "text": [
      "Sorry you did not win, better luck next time!\n"
     ]
    },
    {
     "name": "stdin",
     "output_type": "stream",
     "text": [
      "Do you want to try again? (Y/N) n\n"
     ]
    }
   ],
   "source": [
    "# Lucky draw\n",
    "\n",
    "def lucky_draw():\n",
    "    #Generate a random number\n",
    "    winning = random.randint(1,10)\n",
    "#     print(winning)\n",
    "    #Have the user guess the number\n",
    "    user_guess = int(input(\"Please guess a number from 1 to 10: \"))\n",
    "    \n",
    "    #Check the guess against the number\n",
    "    \n",
    "    #Either win -> exit\n",
    "    if user_guess == winning:\n",
    "        print(\"Congratulations! You won an off-day!\")\n",
    "    #or lose -> play again? (y/n)\n",
    "    else:\n",
    "        print(\"Sorry you did not win, better luck next time!\")\n",
    "        \n",
    "        user_retry = input(\"Do you want to try again? (Y/N)\")\n",
    "        if user_retry.lower() == \"y\":\n",
    "            lucky_draw()\n",
    "lucky_draw()"
   ]
  },
  {
   "cell_type": "code",
   "execution_count": 49,
   "metadata": {},
   "outputs": [
    {
     "name": "stdout",
     "output_type": "stream",
     "text": [
      "1\n",
      "5\n",
      "[2, 3, 4, 5]\n",
      "[2, 3, 4]\n",
      "[]\n",
      "[1, 2, 3, 4, 5]\n"
     ]
    }
   ],
   "source": [
    "#Recap on slicing / indexing\n",
    "\n",
    "alist = [1, 2, 3, 4, 5]\n",
    "\n",
    "print(alist[0])\n",
    "print(alist[-1])\n",
    "print(alist[1:])\n",
    "print(alist[1:-1])\n",
    "\n",
    "print(alist[2:-3])\n",
    "print(alist[:])"
   ]
  },
  {
   "cell_type": "code",
   "execution_count": 50,
   "metadata": {
    "id": "LT5uGNiOqhbI"
   },
   "outputs": [
    {
     "name": "stdout",
     "output_type": "stream",
     "text": [
      "True\n",
      "True\n"
     ]
    }
   ],
   "source": [
    "# Palindrome\n",
    "\n",
    "def palindrome(word):\n",
    "    # Base case: stop when i have either \n",
    "            # no letters (even number of letters, e.g. noon) or \n",
    "            #one letter (odd number of letters, e.g. racecar)\n",
    "    if len(word) < 2:\n",
    "        return True\n",
    "    \n",
    "    # check first and last letter\n",
    "    if word[0] != word[-1]:\n",
    "        return False\n",
    "    # palindrome(word[1:-1]) recursive relation\n",
    "    return palindrome(word[1:-1])\n",
    "\n",
    "print(palindrome(\"racecar\"))        \n",
    "print(palindrome(\"noon\"))"
   ]
  },
  {
   "cell_type": "code",
   "execution_count": 52,
   "metadata": {
    "id": "HhSeBuf0qhbI"
   },
   "outputs": [
    {
     "name": "stdout",
     "output_type": "stream",
     "text": [
      "55\n"
     ]
    }
   ],
   "source": [
    "# Fibonacci\n",
    "\n",
    "def fib(n):\n",
    "    #define base case:\n",
    "    if n == 1 or n == 2:\n",
    "        return 1\n",
    "    else: \n",
    "    # Recurrence: T(n) = T(n-1) + T(n-2)\n",
    "        return fib(n-1) + fib(n-2)\n",
    "\n",
    "print(fib(10))\n",
    "\n",
    "#Try a bigger number - it will take longer to execute\n",
    "# print(fib(40))"
   ]
  },
  {
   "cell_type": "code",
   "execution_count": 53,
   "metadata": {},
   "outputs": [
    {
     "data": {
      "text/plain": [
       "573147844013817084101"
      ]
     },
     "execution_count": 53,
     "metadata": {},
     "output_type": "execute_result"
    }
   ],
   "source": [
    "#Memoization (Caching)\n",
    "\n",
    "from typing import Dict\n",
    "memo: Dict[int, int] = {0:1, 1:1}\n",
    "\n",
    "def fib_memo(n):\n",
    "    if n not in memo:\n",
    "        memo[n] = fib_memo(n-1)+fib_memo(n-2)\n",
    "    return memo[n]\n",
    "\n",
    "#Notice how fast it executes now\n",
    "fib_memo(100)"
   ]
  },
  {
   "cell_type": "code",
   "execution_count": 54,
   "metadata": {
    "id": "7jUhhBDxqhbI"
   },
   "outputs": [
    {
     "name": "stdout",
     "output_type": "stream",
     "text": [
      "1\n",
      "11\n",
      "{'aaa': 111}\n",
      "111\n",
      "None\n"
     ]
    }
   ],
   "source": [
    "# Nested dictionary search\n",
    "\n",
    "nested = {'a':1, \n",
    "          'b':2, \n",
    "          'c': {'aa': 11, \n",
    "                'bb': {'aaa': 111}\n",
    "               },\n",
    "          'd':3\n",
    "}\n",
    "# print(type(nested))\n",
    "\n",
    "\n",
    "#Pseudocode:\n",
    "def find_me(target_key, layered_dict):\n",
    "#loop through the keys in the dictionary\n",
    "    for key in layered_dict:\n",
    "        \n",
    "    #check whether the key exists\n",
    "        if key == target_key:\n",
    "        #if it does - return the value corresponding to the key\n",
    "            return layered_dict[key]\n",
    "\n",
    "        #if it doesn't - check the next layer -> do we need to go deeper?\n",
    "        elif type(layered_dict[key]) == dict:\n",
    "\n",
    "            #Yes -> how to go deeper? (recursion)\n",
    "            return find_me(target_key, layered_dict[key])\n",
    "       \n",
    "        #No -> go to the next key\n",
    "\n",
    "print(find_me(\"a\", nested))\n",
    "print(find_me(\"aa\", nested))\n",
    "print(find_me(\"bb\", nested))\n",
    "print(find_me(\"aaa\", nested))\n",
    "print(find_me(\"ccc\", nested))"
   ]
  },
  {
   "cell_type": "markdown",
   "metadata": {
    "id": "vp_9VvnFqhbI"
   },
   "source": [
    "#### Recursion - Exercise"
   ]
  },
  {
   "cell_type": "code",
   "execution_count": 55,
   "metadata": {
    "id": "xWzom9RNqhbI"
   },
   "outputs": [
    {
     "name": "stdout",
     "output_type": "stream",
     "text": [
      "<class 'int'>\n",
      "True\n",
      "True\n",
      "['a']\n",
      "['a', 'b']\n",
      "['a']\n",
      "['a', 'b']\n"
     ]
    },
    {
     "data": {
      "text/plain": [
       "[1, 2, 3, 4, 5, 6, 7, 8, 9, 10]"
      ]
     },
     "execution_count": 55,
     "metadata": {},
     "output_type": "execute_result"
    }
   ],
   "source": [
    "# checking data type\n",
    "print(type(2))\n",
    "print(type(2) is int)\n",
    "print(type(\"abc\") is str)\n",
    "\n",
    "# lists - append vs concatenation\n",
    "test = ['a']\n",
    "test + ['b'] #not in-place\n",
    "print(test)\n",
    "print(test+ ['b'])\n",
    "\n",
    "print(test)\n",
    "test.append('b')\n",
    "print(test)\n",
    "\n",
    "# Flatten\n",
    "\n",
    "nested = [1, 2, [3, 4, [5], 6], 7, 8, [9, 10]]\n",
    "def flatten(nested_list):\n",
    "    result = []\n",
    "    for elem in nested_list:\n",
    "        if type(elem) == list:\n",
    "            result += flatten(elem)\n",
    "        else:\n",
    "            result += [elem]\n",
    "    return result\n",
    "flatten(nested)"
   ]
  },
  {
   "cell_type": "code",
   "execution_count": 56,
   "metadata": {},
   "outputs": [],
   "source": [
    "#Extra Exercise 1 - Pascal's Triangle\n",
    "# Write a function that takes an argument n, and returns the first n rows of the pascal triangle \n",
    "\n",
    "#Strategy:\n",
    "# Step 1: create a function, cal_pascal that returns the element in the ith row, jth column\n",
    "def cal_pascal(row, col):\n",
    "    if col == 1:\n",
    "        return 1\n",
    "    if row == col:\n",
    "        return 1\n",
    "    return cal_pascal(row-1, col) + cal_pascal(row-1, col-1)\n",
    "\n",
    "\n",
    "# print(cal_pascal(6, 3))\n",
    "\n",
    "#alternatively, using math, not recursion:\n",
    "import math\n",
    "def cal_pascal2(row, col):\n",
    "    return math.comb(row-1, col-1)\n",
    "\n",
    "# print(cal_pascal2(6,3))\n",
    "\n",
    "\n",
    "# Step 2: Use a loop to iteratively generate the rows using cal_pascal\n",
    "def print_pascal(n):\n",
    "    for row in range(1, n+1):\n",
    "        for col in range(1, row+1):\n",
    "            print(cal_pascal(row, col), end=' ')\n",
    "        print()\n",
    "\n"
   ]
  },
  {
   "cell_type": "code",
   "execution_count": 57,
   "metadata": {},
   "outputs": [
    {
     "name": "stdout",
     "output_type": "stream",
     "text": [
      "1 \n",
      "1 1 \n",
      "1 2 1 \n",
      "1 3 3 1 \n"
     ]
    }
   ],
   "source": [
    "print_pascal(4)\n"
   ]
  },
  {
   "cell_type": "code",
   "execution_count": 58,
   "metadata": {},
   "outputs": [
    {
     "name": "stdout",
     "output_type": "stream",
     "text": [
      "1 \n",
      "1 1 \n",
      "1 2 1 \n",
      "1 3 3 1 \n",
      "1 4 6 4 1 \n"
     ]
    }
   ],
   "source": [
    "print_pascal(5)"
   ]
  },
  {
   "cell_type": "code",
   "execution_count": 60,
   "metadata": {},
   "outputs": [
    {
     "name": "stdout",
     "output_type": "stream",
     "text": [
      "Example 1\n",
      "\n",
      "---- 0\n",
      "- \n",
      "-- \n",
      "- \n",
      "--- \n",
      "- \n",
      "-- \n",
      "- \n",
      "---- 1\n",
      "- \n",
      "-- \n",
      "- \n",
      "--- \n",
      "- \n",
      "-- \n",
      "- \n",
      "---- 2\n",
      "- \n",
      "-- \n",
      "- \n",
      "--- \n",
      "- \n",
      "-- \n",
      "- \n",
      "---- 3\n",
      "\n"
     ]
    }
   ],
   "source": [
    "#Extra Exercise 2\n",
    "# Write a function draw_ruler(major_tick, max_length), that generates the following output\n",
    "\n",
    "print(\"Example 1\")\n",
    "print()\n",
    "draw_ruler(3,4)\n",
    "\n",
    "print()"
   ]
  },
  {
   "cell_type": "code",
   "execution_count": 61,
   "metadata": {},
   "outputs": [
    {
     "name": "stdout",
     "output_type": "stream",
     "text": [
      "Example 2\n",
      "\n",
      "------ 0\n",
      "- \n",
      "-- \n",
      "- \n",
      "--- \n",
      "- \n",
      "-- \n",
      "- \n",
      "---- \n",
      "- \n",
      "-- \n",
      "- \n",
      "--- \n",
      "- \n",
      "-- \n",
      "- \n",
      "----- \n",
      "- \n",
      "-- \n",
      "- \n",
      "--- \n",
      "- \n",
      "-- \n",
      "- \n",
      "---- \n",
      "- \n",
      "-- \n",
      "- \n",
      "--- \n",
      "- \n",
      "-- \n",
      "- \n",
      "------ 1\n",
      "- \n",
      "-- \n",
      "- \n",
      "--- \n",
      "- \n",
      "-- \n",
      "- \n",
      "---- \n",
      "- \n",
      "-- \n",
      "- \n",
      "--- \n",
      "- \n",
      "-- \n",
      "- \n",
      "----- \n",
      "- \n",
      "-- \n",
      "- \n",
      "--- \n",
      "- \n",
      "-- \n",
      "- \n",
      "---- \n",
      "- \n",
      "-- \n",
      "- \n",
      "--- \n",
      "- \n",
      "-- \n",
      "- \n",
      "------ 2\n",
      "- \n",
      "-- \n",
      "- \n",
      "--- \n",
      "- \n",
      "-- \n",
      "- \n",
      "---- \n",
      "- \n",
      "-- \n",
      "- \n",
      "--- \n",
      "- \n",
      "-- \n",
      "- \n",
      "----- \n",
      "- \n",
      "-- \n",
      "- \n",
      "--- \n",
      "- \n",
      "-- \n",
      "- \n",
      "---- \n",
      "- \n",
      "-- \n",
      "- \n",
      "--- \n",
      "- \n",
      "-- \n",
      "- \n",
      "------ 3\n"
     ]
    }
   ],
   "source": [
    "print(\"Example 2\")\n",
    "print()\n",
    "draw_ruler(3, 6)"
   ]
  },
  {
   "cell_type": "code",
   "execution_count": 59,
   "metadata": {},
   "outputs": [],
   "source": [
    "# Draw Ruler Solution\n",
    "\n",
    "def draw_ruler(major_tick_count, max_length):\n",
    "    draw_line(max_length, \"0\")\n",
    "    for i in range(1, major_tick_count + 1):\n",
    "        draw_interval(max_length - 1)\n",
    "        draw_line(max_length, i)\n",
    "\n",
    "def draw_interval(center_length):\n",
    "    if center_length > 0:\n",
    "        draw_interval(center_length - 1)\n",
    "        draw_line(center_length, \"\")\n",
    "        draw_interval(center_length - 1)\n",
    "\n",
    "def draw_line(count, label):\n",
    "    print((\"-\" * count) + \" \" + str(label))"
   ]
  },
  {
   "cell_type": "code",
   "execution_count": 63,
   "metadata": {},
   "outputs": [
    {
     "name": "stdout",
     "output_type": "stream",
     "text": [
      "8\n",
      "8\n",
      "8\n",
      "8\n"
     ]
    }
   ],
   "source": [
    "#Extra example: Define a HCF(a,b) function that returns the highest common factor for integers a, b\n",
    "#Otherwise known as Greatest Common Divisor (GCD), which is available in the math module\n",
    "\n",
    "import math\n",
    "from functools import lru_cache\n",
    "\n",
    "@lru_cache(maxsize=None)\n",
    "#Method 1: Recursively test all the numbers (This is terrible - need to memoize)\n",
    "def hcf(a,b, current_divisor=1):\n",
    "    smaller = min(a,b)\n",
    "    if current_divisor > smaller:\n",
    "        return 1\n",
    "    if a % current_divisor == 0 and b % current_divisor == 0:\n",
    "        return max(current_divisor, hcf(a, b, current_divisor+1))\n",
    "    else:\n",
    "        return hcf(a, b, current_divisor+1)\n",
    "\n",
    "\n",
    "@lru_cache(maxsize=None)\n",
    "#Method 2: Euclidean algorithm (Reference: https://en.wikipedia.org/wiki/Euclidean_algorithm)\n",
    "def hcf_euclid(a, b):\n",
    "    if a == 0:\n",
    "        return b\n",
    "    if b == 0:\n",
    "        return a\n",
    "    if a > b:\n",
    "        return hcf_euclid(a-b, b)\n",
    "    return hcf_euclid(a, b-a)\n",
    "\n",
    "\n",
    "@lru_cache(maxsize=None)\n",
    "#Method 3: Using Modulo (faster)\n",
    "def hcf_modulo(a, b):\n",
    "    if b==0:\n",
    "        return a\n",
    "    else:\n",
    "        return hcf_modulo(b, a%b)\n",
    "\n",
    "num1, num2 = 24, 16\n",
    "print(math.gcd(num1, num2))\n",
    "print(hcf(num1, num2))\n",
    "print(hcf_euclid(num1, num2))\n",
    "print(hcf_modulo(num1, num2))\n"
   ]
  },
  {
   "cell_type": "markdown",
   "metadata": {
    "id": "9SZ0IWs6qhbI"
   },
   "source": [
    "#### DECORATORS\n",
    "#### Background - Functions as objects"
   ]
  },
  {
   "cell_type": "code",
   "execution_count": 64,
   "metadata": {
    "id": "UszmY2MQqhbI"
   },
   "outputs": [
    {
     "name": "stdout",
     "output_type": "stream",
     "text": [
      "hi\n",
      "hi\n",
      "<function print_hi at 0x7cdf5c0d1fc0>\n",
      "<class 'function'>\n"
     ]
    }
   ],
   "source": [
    "# assigning a function to a variable\n",
    "\n",
    "def print_hi():\n",
    "    print(\"hi\")\n",
    "    \n",
    "greet = print_hi\n",
    "\n",
    "print_hi()\n",
    "greet()\n",
    "\n",
    "print(greet)\n",
    "print(type(greet))"
   ]
  },
  {
   "cell_type": "code",
   "execution_count": 65,
   "metadata": {
    "id": "KgDT2-7pqhbI"
   },
   "outputs": [
    {
     "name": "stdin",
     "output_type": "stream",
     "text": [
      "Choose an operation - add/subtract/multiply/divide:  add\n"
     ]
    },
    {
     "name": "stdout",
     "output_type": "stream",
     "text": [
      "5\n"
     ]
    }
   ],
   "source": [
    "# functions nested in other functions\n",
    "\n",
    "def calculator(a, b):\n",
    "    def add(a, b):\n",
    "        return a + b\n",
    "\n",
    "    def subtract(a, b):\n",
    "        return a - b\n",
    "\n",
    "    def multiply(a, b):\n",
    "        return a * b\n",
    "\n",
    "    def divide(a, b):\n",
    "        return a / b\n",
    "    \n",
    "    operator = input(\"Choose an operation - add/subtract/multiply/divide: \")\n",
    "    if operator == \"add\":\n",
    "        return add(a, b)\n",
    "    elif operator ==\"subtract\":\n",
    "        return subtract(a, b)\n",
    "    elif operator ==\"multiply\":\n",
    "        return multiply(a, b)\n",
    "    elif operator == \"divide\":\n",
    "        return divide(a, b)\n",
    "    \n",
    "    \n",
    "print(calculator(2, 3))\n",
    "\n",
    "# add(2,3)"
   ]
  },
  {
   "cell_type": "code",
   "execution_count": 66,
   "metadata": {
    "id": "YyleS8J7qhbI"
   },
   "outputs": [
    {
     "name": "stdout",
     "output_type": "stream",
     "text": [
      "12\n",
      "30\n",
      "8\n"
     ]
    }
   ],
   "source": [
    "# functions returning functions\n",
    "\n",
    "def create_func(op=\"add\"):\n",
    "    def add(a, b):\n",
    "        return a + b\n",
    "\n",
    "    def subtract(a, b):\n",
    "        return a - b\n",
    "\n",
    "    def multiply(a, b):\n",
    "        return a * b\n",
    "\n",
    "    def divide(a, b):\n",
    "        return a / b\n",
    "    \n",
    "    if op == \"add\":\n",
    "        return add\n",
    "    elif op ==\"subtract\":\n",
    "        return subtract\n",
    "    elif op ==\"multiply\":\n",
    "        return multiply\n",
    "    elif op == \"divide\":\n",
    "        return divide\n",
    "    \n",
    "add_fn = create_func()\n",
    "print(add_fn(10, 2))\n",
    "print(add_fn(10, 20))\n",
    "\n",
    "subtract_fn = create_func(\"subtract\")\n",
    "print(subtract_fn(10, 2))\n"
   ]
  },
  {
   "cell_type": "code",
   "execution_count": 67,
   "metadata": {
    "id": "-JcLZ9HcqhbI"
   },
   "outputs": [
    {
     "data": {
      "text/plain": [
       "20"
      ]
     },
     "execution_count": 67,
     "metadata": {},
     "output_type": "execute_result"
    }
   ],
   "source": [
    "# functions as arguments\n",
    "\n",
    "def add(a, b):\n",
    "    return a + b\n",
    "\n",
    "def subtract(a, b):\n",
    "    return a - b\n",
    "\n",
    "def multiply(a, b):\n",
    "    return a * b\n",
    "\n",
    "def divide(a, b):\n",
    "    return a / b\n",
    "\n",
    "def quick_calc(a, b, op):\n",
    "    return op(a, b)\n",
    "\n",
    "\n",
    "quick_calc(10, 2, multiply)"
   ]
  },
  {
   "cell_type": "markdown",
   "metadata": {
    "id": "E6voaRqnqhbI"
   },
   "source": [
    "#### Intro to Decorators"
   ]
  },
  {
   "cell_type": "code",
   "execution_count": 68,
   "metadata": {
    "id": "bzwUMmWjqhbI"
   },
   "outputs": [
    {
     "name": "stdout",
     "output_type": "stream",
     "text": [
      "hello!\n"
     ]
    }
   ],
   "source": [
    "# function working with strings\n",
    "\n",
    "def modify(string_in):\n",
    "    string_out = string_in + \"!\"\n",
    "    return string_out\n",
    "\n",
    "x = \"hello\"\n",
    "print(modify(x))"
   ]
  },
  {
   "cell_type": "code",
   "execution_count": 69,
   "metadata": {},
   "outputs": [
    {
     "name": "stdout",
     "output_type": "stream",
     "text": [
      "hi\n"
     ]
    }
   ],
   "source": [
    "greet()"
   ]
  },
  {
   "cell_type": "code",
   "execution_count": 70,
   "metadata": {
    "id": "18GxtsptqhbI"
   },
   "outputs": [
    {
     "name": "stdout",
     "output_type": "stream",
     "text": [
      "Doing some work before executing function...\n",
      "hi\n",
      "Doing some work after executing function...\n"
     ]
    }
   ],
   "source": [
    "# function working with functions instead of strings\n",
    "\n",
    "def decorator(func):\n",
    "    def wrapped_func():\n",
    "        print(\"Doing some work before executing function...\")\n",
    "        func()\n",
    "        print(\"Doing some work after executing function...\")\n",
    "    return wrapped_func\n",
    "    \n",
    "# either create new wrapped function\n",
    "greet_dec = decorator(greet)\n",
    "greet_dec()\n"
   ]
  },
  {
   "cell_type": "code",
   "execution_count": 71,
   "metadata": {},
   "outputs": [
    {
     "name": "stdout",
     "output_type": "stream",
     "text": [
      "Doing some work before executing function...\n",
      "hi\n",
      "Doing some work after executing function...\n"
     ]
    }
   ],
   "source": [
    "# or overwrite original function as a wrapped function\n",
    "\n",
    "greet = decorator(greet)\n",
    "\n",
    "greet()"
   ]
  },
  {
   "cell_type": "markdown",
   "metadata": {
    "id": "8bynhEOUqhbI"
   },
   "source": [
    "#### Decorators - Examples"
   ]
  },
  {
   "cell_type": "code",
   "execution_count": 72,
   "metadata": {
    "id": "za6hlwf4qhbI"
   },
   "outputs": [
    {
     "name": "stdout",
     "output_type": "stream",
     "text": [
      "33\n"
     ]
    }
   ],
   "source": [
    "def print_log(func):\n",
    "    def func_with_log(a, b):\n",
    "        print(\"-----\")\n",
    "        print(\"Calling function...\")\n",
    "        result = func(a, b)\n",
    "        print(f\"The result is {result}\")\n",
    "        print(\"-----\")\n",
    "        return result  # note: return whatever func returns\n",
    "    return func_with_log\n",
    "\n",
    "def addition(a, b):\n",
    "    return a + b\n",
    "\n",
    "#Without decoration:\n",
    "print(addition(10, 23))"
   ]
  },
  {
   "cell_type": "code",
   "execution_count": 73,
   "metadata": {},
   "outputs": [
    {
     "name": "stdout",
     "output_type": "stream",
     "text": [
      "-----\n",
      "Calling function...\n",
      "The result is 35\n",
      "-----\n"
     ]
    },
    {
     "data": {
      "text/plain": [
       "35"
      ]
     },
     "execution_count": 73,
     "metadata": {},
     "output_type": "execute_result"
    }
   ],
   "source": [
    "#With decoration\n",
    "addition_dec = print_log(addition)\n",
    "addition_dec(10, 25)"
   ]
  },
  {
   "cell_type": "code",
   "execution_count": 74,
   "metadata": {},
   "outputs": [
    {
     "name": "stdout",
     "output_type": "stream",
     "text": [
      "-----\n",
      "Calling function...\n",
      "The result is -13\n",
      "-----\n"
     ]
    },
    {
     "data": {
      "text/plain": [
       "-13"
      ]
     },
     "execution_count": 74,
     "metadata": {},
     "output_type": "execute_result"
    }
   ],
   "source": [
    "#Concise way of applying decorators:\n",
    "\n",
    "@print_log\n",
    "def subtraction(a, b):\n",
    "    return a - b\n",
    "\n",
    "subtraction(10, 23)"
   ]
  },
  {
   "cell_type": "code",
   "execution_count": 75,
   "metadata": {
    "id": "KfmKoBlyqhbI"
   },
   "outputs": [
    {
     "name": "stdout",
     "output_type": "stream",
     "text": [
      "1727417722.060234\n",
      "1727417723.0614862\n"
     ]
    }
   ],
   "source": [
    "# time.time()\n",
    "import time\n",
    "print(time.time()) #Returns time now\n",
    "time.sleep(1) #Sleeps for 1 second\n",
    "print(time.time()) #Returns time now again"
   ]
  },
  {
   "cell_type": "code",
   "execution_count": 1,
   "metadata": {
    "id": "1UMmh3q9qhbJ"
   },
   "outputs": [
    {
     "name": "stdout",
     "output_type": "stream",
     "text": [
      "Function took 0.365527868270874 seconds\n",
      "Complete list generation (LC)\n",
      "************\n",
      "Function took 0.5020503997802734 seconds\n",
      "Complete list generation (for loop)\n"
     ]
    }
   ],
   "source": [
    "import time\n",
    "\n",
    "def time_it(func):\n",
    "    def new_func():\n",
    "        start = time.time()\n",
    "        result = func()\n",
    "        end = time.time()\n",
    "        elapsed = end - start\n",
    "        print(f\"Function took {elapsed} seconds\")\n",
    "        return result  # note: return whatever func returns\n",
    "    return new_func\n",
    "\n",
    "# time a list comprehension\n",
    "@time_it\n",
    "def generate_list_lc():\n",
    "    nums = [i for i in range(10000000)]\n",
    "    return \"Complete list generation (LC)\"\n",
    "\n",
    "# time a for loop\n",
    "@time_it\n",
    "def generate_list_loop():\n",
    "    nums = []\n",
    "    for i in range(10000000):\n",
    "        nums.append(i)\n",
    "    return \"Complete list generation (for loop)\"\n",
    "\n",
    "print(generate_list_lc())\n",
    "print('************')\n",
    "print(generate_list_loop())"
   ]
  },
  {
   "cell_type": "code",
   "execution_count": 2,
   "metadata": {},
   "outputs": [
    {
     "name": "stdout",
     "output_type": "stream",
     "text": [
      "354224848179261915075\n"
     ]
    }
   ],
   "source": [
    "from functools import lru_cache\n",
    "\n",
    "@lru_cache(maxsize=None) #caches all function calls\n",
    "def fib(n):\n",
    "    #define base case:\n",
    "    if n == 1 or n == 2:\n",
    "        return 1\n",
    "    else: \n",
    "    # Recurrence: T(n) = T(n-1) + T(n-2)\n",
    "        return fib(n-1) + fib(n-2)\n",
    "\n",
    "print(fib(100))"
   ]
  },
  {
   "cell_type": "code",
   "execution_count": 4,
   "metadata": {},
   "outputs": [
    {
     "name": "stdout",
     "output_type": "stream",
     "text": [
      "Time taken without caching: \n",
      "Function took 9.5367431640625e-06 seconds\n",
      "Time taken with caching: \n",
      "Function took 1.0013580322265625e-05 seconds\n"
     ]
    },
    {
     "data": {
      "text/plain": [
       "55"
      ]
     },
     "execution_count": 4,
     "metadata": {},
     "output_type": "execute_result"
    }
   ],
   "source": [
    "import time\n",
    "\n",
    "def time_it(func):\n",
    "    def new_func(*args, **kwargs): #This is modified from the original time_it wrapper to account for input arguments\n",
    "        start = time.time()\n",
    "        result = func(*args, **kwargs) #This is modified from the original time_it wrapper to account for input arguments\n",
    "        end = time.time()\n",
    "        elapsed = end - start\n",
    "        print(f\"Function took {elapsed} seconds\")\n",
    "        return result  # note: return whatever func returns\n",
    "    return new_func\n",
    "\n",
    "def fib(n):\n",
    "    #define base case:\n",
    "    if n == 1 or n == 2:\n",
    "        return 1\n",
    "    else: \n",
    "    # Recurrence: T(n) = T(n-1) + T(n-2)\n",
    "        return fib(n-1) + fib(n-2)\n",
    "\n",
    "# Applying different decorators\n",
    "# Note that function names cannot be repeated\n",
    "\n",
    "@time_it\n",
    "def fib_timed(n):\n",
    "    return fib(n)\n",
    "\n",
    "#Chain decoraters\n",
    "@lru_cache\n",
    "@time_it\n",
    "def fib_cached(n):\n",
    "    return fib(n)\n",
    "\n",
    "fibNum = 10\n",
    "print(\"Time taken without caching: \")\n",
    "fib_timed(fibNum)\n",
    "print(\"Time taken with caching: \")\n",
    "fib_cached(fibNum)\n"
   ]
  },
  {
   "cell_type": "markdown",
   "metadata": {
    "id": "CyLhGzL_qhbJ"
   },
   "source": [
    "## Part 3: Advanced Functions and Practical Python"
   ]
  },
  {
   "cell_type": "markdown",
   "metadata": {
    "id": "7UTvgopZqhbJ"
   },
   "source": [
    "#### RECAP"
   ]
  },
  {
   "cell_type": "code",
   "execution_count": null,
   "metadata": {
    "id": "WPQg8Ng-qhbJ"
   },
   "outputs": [],
   "source": []
  },
  {
   "cell_type": "markdown",
   "metadata": {
    "id": "GSg7GzgbqhbJ"
   },
   "source": [
    "#### HIGHER-ORDER FUNCTIONS"
   ]
  },
  {
   "cell_type": "markdown",
   "metadata": {
    "id": "soNVeGXbqhbJ"
   },
   "source": [
    "#### Higher-Order Functions - `map()`"
   ]
  },
  {
   "cell_type": "code",
   "execution_count": 5,
   "metadata": {
    "id": "WA1AvtOpqhbJ"
   },
   "outputs": [
    {
     "data": {
      "text/plain": [
       "<map at 0x7a48a4270b80>"
      ]
     },
     "execution_count": 5,
     "metadata": {},
     "output_type": "execute_result"
    }
   ],
   "source": [
    "# with built-in function\n",
    "\n",
    "alist = ['a', 'ab', 'abc']\n",
    "blist = ['abcd', 'abcde', 'abcdef']\n",
    "\n",
    "map(len, alist)\n"
   ]
  },
  {
   "cell_type": "code",
   "execution_count": 6,
   "metadata": {},
   "outputs": [
    {
     "data": {
      "text/plain": [
       "[1, 2, 3]"
      ]
     },
     "execution_count": 6,
     "metadata": {},
     "output_type": "execute_result"
    }
   ],
   "source": [
    "list(map(len, alist))"
   ]
  },
  {
   "cell_type": "code",
   "execution_count": 7,
   "metadata": {
    "id": "hUpnWI4iqhbJ"
   },
   "outputs": [
    {
     "name": "stdout",
     "output_type": "stream",
     "text": [
      "[0, 5.0, 18.0]\n"
     ]
    }
   ],
   "source": [
    "# with custom-defined function\n",
    "\n",
    "def rebate(power_usage):\n",
    "    if power_usage < 400:\n",
    "        return power_usage * 0.05\n",
    "    elif power_usage < 500:\n",
    "        return power_usage * 0.04\n",
    "    elif power_usage < 600:\n",
    "        return power_usage * 0.03\n",
    "    else:\n",
    "        return 0\n",
    "\n",
    "usage = [700, 100, 450]\n",
    "print(list(map(rebate, usage)))\n"
   ]
  },
  {
   "cell_type": "markdown",
   "metadata": {
    "id": "-uvoR2yfqhbJ"
   },
   "source": [
    "#### `map()` exercise"
   ]
  },
  {
   "cell_type": "code",
   "execution_count": 8,
   "metadata": {
    "id": "ge-59_nXqhbJ"
   },
   "outputs": [
    {
     "data": {
      "text/plain": [
       "['IMPORTANT!', 'URGENT!', 'CLASSIFIED!', 'CONFIDENTIAL!']"
      ]
     },
     "execution_count": 8,
     "metadata": {},
     "output_type": "execute_result"
    }
   ],
   "source": [
    "# exercise\n",
    "\n",
    "words = [\"important\", \"urgent\", \"classified\", \"confidential\"]\n",
    "\n",
    "def emphasize(msg):\n",
    "    return msg.upper() + \"!\"\n",
    "\n",
    "list(map(emphasize, words))"
   ]
  },
  {
   "cell_type": "code",
   "execution_count": 9,
   "metadata": {
    "id": "6eVZZzLNqhbJ"
   },
   "outputs": [
    {
     "data": {
      "text/plain": [
       "['IMPORTANT!', 'URGENT!!', 'CLASSIFIED!!!', 'CONFIDENTIAL!!!!']"
      ]
     },
     "execution_count": 9,
     "metadata": {},
     "output_type": "execute_result"
    }
   ],
   "source": [
    "# (extra) example: multiple arguments\n",
    "words = [\"important\", \"urgent\", \"classified\", \"confidential\"]\n",
    "numlist = [1, 2, 3, 4]\n",
    "\n",
    "def emphasize_mult(msg, num):\n",
    "    return msg.upper() + \"!\"*num\n",
    "\n",
    "list(map(emphasize_mult, words, numlist))"
   ]
  },
  {
   "cell_type": "code",
   "execution_count": 10,
   "metadata": {},
   "outputs": [
    {
     "name": "stdout",
     "output_type": "stream",
     "text": [
      "hello!\n",
      "hello!\n",
      "hello!\n",
      "[1, 4, 9]\n"
     ]
    }
   ],
   "source": [
    "adict = {\"a\": 1, \"b\":2, \"c\":3}\n",
    "\n",
    "def dummy_function(*arg):\n",
    "    print(\"hello!\")\n",
    "    return \"done\"\n",
    "list(map(dummy_function, adict))\n",
    "\n",
    "def square_fn(n):\n",
    "    return n**2\n",
    "    \n",
    "mapped_values = list(map(square_fn, adict.values()))\n",
    "print(mapped_values)\n"
   ]
  },
  {
   "cell_type": "markdown",
   "metadata": {
    "id": "eBC1ysk_qhbJ"
   },
   "source": [
    "#### Higher-Order Functions - `filter()`"
   ]
  },
  {
   "cell_type": "code",
   "execution_count": 11,
   "metadata": {
    "id": "sOdAxX-HqhbJ"
   },
   "outputs": [
    {
     "name": "stdout",
     "output_type": "stream",
     "text": [
      "False\n",
      "True\n",
      "False\n"
     ]
    },
    {
     "data": {
      "text/plain": [
       "[1]"
      ]
     },
     "execution_count": 11,
     "metadata": {},
     "output_type": "execute_result"
    }
   ],
   "source": [
    "# with built-in function\n",
    "\n",
    "print(bool(0))\n",
    "print(bool(1))\n",
    "print(bool(\"\"))\n",
    "\n",
    "list(filter(bool, [0, 1, \"\"]))"
   ]
  },
  {
   "cell_type": "code",
   "execution_count": 12,
   "metadata": {
    "id": "4LOfeBMeqhbJ"
   },
   "outputs": [
    {
     "name": "stdout",
     "output_type": "stream",
     "text": [
      "True\n",
      "False\n",
      "[25, 8, 5, 28, 13, 12, 12, 9, 28, 8, 26, 28, 22, 7, 23, 18, 6, 5, 7, 11]\n",
      "[8, 5, 12, 12, 9, 8, 7, 6, 5, 7, 11]\n"
     ]
    }
   ],
   "source": [
    "# with custom-defined function\n",
    "\n",
    "import random\n",
    "\n",
    "def is_child(age):\n",
    "    return age <= 12\n",
    "print(is_child(10))\n",
    "print(is_child(21))\n",
    "\n",
    "random.seed(42)\n",
    "ages = [random.randint(5, 30) for i in range(20)]\n",
    "print(ages)\n",
    "\n",
    "print(list(filter(is_child, ages)))"
   ]
  },
  {
   "cell_type": "markdown",
   "metadata": {
    "id": "afTIR5feqhbJ"
   },
   "source": [
    "#### `filter()` exercise"
   ]
  },
  {
   "cell_type": "code",
   "execution_count": 13,
   "metadata": {
    "id": "rjQ5imqeqhbJ"
   },
   "outputs": [
    {
     "name": "stdout",
     "output_type": "stream",
     "text": [
      "['hello', 'bonjour', 'konnichiwa', 'nihao']\n"
     ]
    }
   ],
   "source": [
    "# exercise\n",
    "def is_long(word):\n",
    "    return len(word) > 4\n",
    "\n",
    "words = [\"hi\",\"hello\", \"bonjour\", \"konnichiwa\", \"nihao\"]\n",
    "print(list(filter(is_long, words)))"
   ]
  },
  {
   "cell_type": "markdown",
   "metadata": {
    "id": "Y8lVJkb5qhbJ"
   },
   "source": [
    "#### Lambda Expressions"
   ]
  },
  {
   "cell_type": "code",
   "execution_count": 14,
   "metadata": {
    "id": "4w7uNemLqhbJ"
   },
   "outputs": [
    {
     "data": {
      "text/plain": [
       "<function __main__.<lambda>(x)>"
      ]
     },
     "execution_count": 14,
     "metadata": {},
     "output_type": "execute_result"
    }
   ],
   "source": [
    "lambda x: x + 6"
   ]
  },
  {
   "cell_type": "code",
   "execution_count": 15,
   "metadata": {
    "id": "7SJdpCKLqhbJ"
   },
   "outputs": [
    {
     "name": "stdout",
     "output_type": "stream",
     "text": [
      "11\n",
      "13\n"
     ]
    }
   ],
   "source": [
    "print((lambda x: x+ 6)(5))\n",
    "print((lambda x, y: x + y)(5, 8))"
   ]
  },
  {
   "cell_type": "code",
   "execution_count": 16,
   "metadata": {
    "id": "fCsaDBbIqhbJ"
   },
   "outputs": [
    {
     "data": {
      "text/plain": [
       "[1, 4, 9, 16, 25]"
      ]
     },
     "execution_count": 16,
     "metadata": {},
     "output_type": "execute_result"
    }
   ],
   "source": [
    "list(map(lambda x : x ** 2, [1, 2, 3, 4, 5]))"
   ]
  },
  {
   "cell_type": "code",
   "execution_count": 17,
   "metadata": {},
   "outputs": [
    {
     "data": {
      "text/plain": [
       "['hello', 'nihao']"
      ]
     },
     "execution_count": 17,
     "metadata": {},
     "output_type": "execute_result"
    }
   ],
   "source": [
    "list(filter(lambda word : len(word)>4, [\"hello\", \"hi\", \"nihao\"]))"
   ]
  },
  {
   "cell_type": "code",
   "execution_count": 18,
   "metadata": {
    "id": "k7ugVUjMqhbJ"
   },
   "outputs": [
    {
     "data": {
      "text/plain": [
       "[10, 22, 36, 52]"
      ]
     },
     "execution_count": 18,
     "metadata": {},
     "output_type": "execute_result"
    }
   ],
   "source": [
    "# extra: multiple arguments\n",
    "\n",
    "num1 = list(range(10,20))\n",
    "num2 = list(range(1,5))\n",
    "\n",
    "list(map(lambda x, y: x*y, num1, num2))"
   ]
  },
  {
   "cell_type": "code",
   "execution_count": 19,
   "metadata": {
    "id": "P8sTAkn5qhbJ"
   },
   "outputs": [
    {
     "data": {
      "text/plain": [
       "['wicked',\n",
       " 'community',\n",
       " \"can't\",\n",
       " 'reduce',\n",
       " 'meet',\n",
       " 'was',\n",
       " 'then',\n",
       " 'growling',\n",
       " 'database',\n",
       " 'met',\n",
       " 'playful',\n",
       " 'jury']"
      ]
     },
     "execution_count": 19,
     "metadata": {},
     "output_type": "execute_result"
    }
   ],
   "source": [
    "# Exercise\n",
    "\n",
    "common = \"a, an, are, for, in, is, on, or, that, the, to, i, be, our, will, it, he, she, we, they\".split(\", \")\n",
    "text = \"The wicked community can't reduce the meet. It was then the growling database met the playful jury.\"\n",
    "\n",
    "#clean up text\n",
    "text_list = text.replace(\".\", \"\").lower().split()\n",
    "\n",
    "list(filter(lambda word: word not in common, text_list))"
   ]
  },
  {
   "cell_type": "markdown",
   "metadata": {
    "id": "GhRxLt3tqhbJ"
   },
   "source": [
    "#### ERRORS AND EXCEPTION HANDLING"
   ]
  },
  {
   "cell_type": "markdown",
   "metadata": {
    "id": "jupIO7g1qhbJ"
   },
   "source": [
    "#### Semantic errors"
   ]
  },
  {
   "cell_type": "code",
   "execution_count": 20,
   "metadata": {
    "id": "TYxQ9K3jqhbJ"
   },
   "outputs": [
    {
     "name": "stdout",
     "output_type": "stream",
     "text": [
      "5.0\n",
      "0.05\n"
     ]
    }
   ],
   "source": [
    "x = 10\n",
    "print(1 / 2 * x)\n",
    "print(1 / (2 * x))\n"
   ]
  },
  {
   "cell_type": "markdown",
   "metadata": {
    "id": "QfUG56D-qhbK"
   },
   "source": [
    "#### Types of Exceptions"
   ]
  },
  {
   "cell_type": "code",
   "execution_count": 21,
   "metadata": {
    "id": "Q2xuxdbNqhbK"
   },
   "outputs": [
    {
     "ename": "SyntaxError",
     "evalue": "unterminated string literal (detected at line 1) (2771999186.py, line 1)",
     "output_type": "error",
     "traceback": [
      "\u001b[0;36m  Cell \u001b[0;32mIn[21], line 1\u001b[0;36m\u001b[0m\n\u001b[0;31m    print(\"hi)\u001b[0m\n\u001b[0m          ^\u001b[0m\n\u001b[0;31mSyntaxError\u001b[0m\u001b[0;31m:\u001b[0m unterminated string literal (detected at line 1)\n"
     ]
    }
   ],
   "source": [
    "print(\"hi)"
   ]
  },
  {
   "cell_type": "code",
   "execution_count": 22,
   "metadata": {
    "id": "5Tms2c7EqhbK"
   },
   "outputs": [
    {
     "ename": "SyntaxError",
     "evalue": "incomplete input (3927587337.py, line 1)",
     "output_type": "error",
     "traceback": [
      "\u001b[0;36m  Cell \u001b[0;32mIn[22], line 1\u001b[0;36m\u001b[0m\n\u001b[0;31m    print(\"hi\"\u001b[0m\n\u001b[0m              ^\u001b[0m\n\u001b[0;31mSyntaxError\u001b[0m\u001b[0;31m:\u001b[0m incomplete input\n"
     ]
    }
   ],
   "source": [
    "print(\"hi\""
   ]
  },
  {
   "cell_type": "code",
   "execution_count": 23,
   "metadata": {
    "id": "-W7lo0jFqhbK"
   },
   "outputs": [
    {
     "ename": "IndentationError",
     "evalue": "expected an indented block after 'if' statement on line 2 (582018987.py, line 3)",
     "output_type": "error",
     "traceback": [
      "\u001b[0;36m  Cell \u001b[0;32mIn[23], line 3\u001b[0;36m\u001b[0m\n\u001b[0;31m    x += 1\u001b[0m\n\u001b[0m    ^\u001b[0m\n\u001b[0;31mIndentationError\u001b[0m\u001b[0;31m:\u001b[0m expected an indented block after 'if' statement on line 2\n"
     ]
    }
   ],
   "source": [
    "x = 1\n",
    "if x < 10:\n",
    "x += 1"
   ]
  },
  {
   "cell_type": "code",
   "execution_count": 24,
   "metadata": {
    "id": "W5Av5fPjqhbK"
   },
   "outputs": [
    {
     "ename": "IndentationError",
     "evalue": "unexpected indent (714301783.py, line 2)",
     "output_type": "error",
     "traceback": [
      "\u001b[0;36m  Cell \u001b[0;32mIn[24], line 2\u001b[0;36m\u001b[0m\n\u001b[0;31m    x += 1\u001b[0m\n\u001b[0m    ^\u001b[0m\n\u001b[0;31mIndentationError\u001b[0m\u001b[0;31m:\u001b[0m unexpected indent\n"
     ]
    }
   ],
   "source": [
    "x = 1\n",
    " x += 1"
   ]
  },
  {
   "cell_type": "code",
   "execution_count": 25,
   "metadata": {
    "id": "mslyIrnSqhbK"
   },
   "outputs": [
    {
     "ename": "NameError",
     "evalue": "name 'hello' is not defined",
     "output_type": "error",
     "traceback": [
      "\u001b[0;31m---------------------------------------------------------------------------\u001b[0m",
      "\u001b[0;31mNameError\u001b[0m                                 Traceback (most recent call last)",
      "Cell \u001b[0;32mIn[25], line 1\u001b[0m\n\u001b[0;32m----> 1\u001b[0m \u001b[38;5;28mprint\u001b[39m(\u001b[43mhello\u001b[49m)\n",
      "\u001b[0;31mNameError\u001b[0m: name 'hello' is not defined"
     ]
    }
   ],
   "source": [
    "print(hello)"
   ]
  },
  {
   "cell_type": "code",
   "execution_count": 26,
   "metadata": {
    "id": "9GUMGN9pqhbK"
   },
   "outputs": [
    {
     "ename": "TypeError",
     "evalue": "can only concatenate str (not \"int\") to str",
     "output_type": "error",
     "traceback": [
      "\u001b[0;31m---------------------------------------------------------------------------\u001b[0m",
      "\u001b[0;31mTypeError\u001b[0m                                 Traceback (most recent call last)",
      "Cell \u001b[0;32mIn[26], line 2\u001b[0m\n\u001b[1;32m      1\u001b[0m points \u001b[38;5;241m=\u001b[39m \u001b[38;5;241m75\u001b[39m\n\u001b[0;32m----> 2\u001b[0m \u001b[38;5;28mprint\u001b[39m(\u001b[38;5;124;43m\"\u001b[39;49m\u001b[38;5;124;43mPoints earned: \u001b[39;49m\u001b[38;5;124;43m\"\u001b[39;49m\u001b[43m \u001b[49m\u001b[38;5;241;43m+\u001b[39;49m\u001b[43m \u001b[49m\u001b[43mpoints\u001b[49m)\n",
      "\u001b[0;31mTypeError\u001b[0m: can only concatenate str (not \"int\") to str"
     ]
    }
   ],
   "source": [
    "points = 75\n",
    "print(\"Points earned: \" + points)"
   ]
  },
  {
   "cell_type": "code",
   "execution_count": 27,
   "metadata": {
    "id": "8ML7S9ACqhbK"
   },
   "outputs": [
    {
     "ename": "TypeError",
     "evalue": "unsupported operand type(s) for +: 'int' and 'str'",
     "output_type": "error",
     "traceback": [
      "\u001b[0;31m---------------------------------------------------------------------------\u001b[0m",
      "\u001b[0;31mTypeError\u001b[0m                                 Traceback (most recent call last)",
      "Cell \u001b[0;32mIn[27], line 1\u001b[0m\n\u001b[0;32m----> 1\u001b[0m \u001b[38;5;28mprint\u001b[39m(\u001b[43mpoints\u001b[49m\u001b[43m \u001b[49m\u001b[38;5;241;43m+\u001b[39;49m\u001b[43m \u001b[49m\u001b[38;5;124;43m\"\u001b[39;49m\u001b[38;5;124;43m points\u001b[39;49m\u001b[38;5;124;43m\"\u001b[39;49m)\n",
      "\u001b[0;31mTypeError\u001b[0m: unsupported operand type(s) for +: 'int' and 'str'"
     ]
    }
   ],
   "source": [
    "print(points + \" points\")"
   ]
  },
  {
   "cell_type": "code",
   "execution_count": 28,
   "metadata": {
    "id": "2adHLIbcqhbK"
   },
   "outputs": [
    {
     "ename": "ValueError",
     "evalue": "invalid literal for int() with base 10: 'a'",
     "output_type": "error",
     "traceback": [
      "\u001b[0;31m---------------------------------------------------------------------------\u001b[0m",
      "\u001b[0;31mValueError\u001b[0m                                Traceback (most recent call last)",
      "Cell \u001b[0;32mIn[28], line 1\u001b[0m\n\u001b[0;32m----> 1\u001b[0m \u001b[38;5;28;43mint\u001b[39;49m\u001b[43m(\u001b[49m\u001b[38;5;124;43m\"\u001b[39;49m\u001b[38;5;124;43ma\u001b[39;49m\u001b[38;5;124;43m\"\u001b[39;49m\u001b[43m)\u001b[49m\n",
      "\u001b[0;31mValueError\u001b[0m: invalid literal for int() with base 10: 'a'"
     ]
    }
   ],
   "source": [
    "int(\"a\")"
   ]
  },
  {
   "cell_type": "code",
   "execution_count": 29,
   "metadata": {
    "id": "dlQd5rb8qhbK"
   },
   "outputs": [
    {
     "ename": "IndexError",
     "evalue": "list index out of range",
     "output_type": "error",
     "traceback": [
      "\u001b[0;31m---------------------------------------------------------------------------\u001b[0m",
      "\u001b[0;31mIndexError\u001b[0m                                Traceback (most recent call last)",
      "Cell \u001b[0;32mIn[29], line 2\u001b[0m\n\u001b[1;32m      1\u001b[0m alist \u001b[38;5;241m=\u001b[39m [i \u001b[38;5;28;01mfor\u001b[39;00m i \u001b[38;5;129;01min\u001b[39;00m \u001b[38;5;28mrange\u001b[39m(\u001b[38;5;241m5\u001b[39m)]\n\u001b[0;32m----> 2\u001b[0m \u001b[38;5;28mprint\u001b[39m(\u001b[43malist\u001b[49m\u001b[43m[\u001b[49m\u001b[38;5;241;43m5\u001b[39;49m\u001b[43m]\u001b[49m)\n",
      "\u001b[0;31mIndexError\u001b[0m: list index out of range"
     ]
    }
   ],
   "source": [
    "alist = [i for i in range(5)]\n",
    "print(alist[5])"
   ]
  },
  {
   "cell_type": "code",
   "execution_count": 30,
   "metadata": {
    "id": "hyIX_wwnqhbK"
   },
   "outputs": [
    {
     "ename": "ModuleNotFoundError",
     "evalue": "No module named 'stuff'",
     "output_type": "error",
     "traceback": [
      "\u001b[0;31m---------------------------------------------------------------------------\u001b[0m",
      "\u001b[0;31mModuleNotFoundError\u001b[0m                       Traceback (most recent call last)",
      "Cell \u001b[0;32mIn[30], line 1\u001b[0m\n\u001b[0;32m----> 1\u001b[0m \u001b[38;5;28;01mimport\u001b[39;00m \u001b[38;5;21;01mstuff\u001b[39;00m\n",
      "\u001b[0;31mModuleNotFoundError\u001b[0m: No module named 'stuff'"
     ]
    }
   ],
   "source": [
    "import stuff"
   ]
  },
  {
   "cell_type": "markdown",
   "metadata": {
    "id": "0fOZw227qhbK"
   },
   "source": [
    "#### The `try`/`except` statement"
   ]
  },
  {
   "cell_type": "code",
   "execution_count": 31,
   "metadata": {
    "id": "euxtlj2ZqhbK"
   },
   "outputs": [
    {
     "ename": "ZeroDivisionError",
     "evalue": "division by zero",
     "output_type": "error",
     "traceback": [
      "\u001b[0;31m---------------------------------------------------------------------------\u001b[0m",
      "\u001b[0;31mZeroDivisionError\u001b[0m                         Traceback (most recent call last)",
      "Cell \u001b[0;32mIn[31], line 3\u001b[0m\n\u001b[1;32m      1\u001b[0m \u001b[38;5;66;03m# exception occurs\u001b[39;00m\n\u001b[0;32m----> 3\u001b[0m x \u001b[38;5;241m=\u001b[39m \u001b[38;5;241;43m1\u001b[39;49m\u001b[38;5;241;43m/\u001b[39;49m\u001b[38;5;241;43m0\u001b[39;49m\n",
      "\u001b[0;31mZeroDivisionError\u001b[0m: division by zero"
     ]
    }
   ],
   "source": [
    "# exception occurs\n",
    "\n",
    "x = 1/0"
   ]
  },
  {
   "cell_type": "code",
   "execution_count": 32,
   "metadata": {
    "id": "ERTttt2BqhbK"
   },
   "outputs": [
    {
     "name": "stdout",
     "output_type": "stream",
     "text": [
      "handled error, variable assigned default value of 1\n",
      "1\n"
     ]
    }
   ],
   "source": [
    "\n",
    "try:\n",
    "    x = 1/0\n",
    "    print(\"This line will not be executed\")\n",
    "except:\n",
    "    print(\"handled error, variable assigned default value of 1\")\n",
    "    x = 1\n",
    "\n",
    "print(x)"
   ]
  },
  {
   "cell_type": "code",
   "execution_count": 33,
   "metadata": {},
   "outputs": [
    {
     "name": "stdout",
     "output_type": "stream",
     "text": [
      "No exception\n",
      "10\n"
     ]
    }
   ],
   "source": [
    "# no exception\n",
    "try:\n",
    "    x = 10\n",
    "    print(\"No exception\")\n",
    "except:\n",
    "    print(\"No handling needed.\")\n",
    "    x = 1\n",
    "\n",
    "print(x)"
   ]
  },
  {
   "cell_type": "code",
   "execution_count": 34,
   "metadata": {
    "id": "RzlFT0jWqhbK"
   },
   "outputs": [
    {
     "ename": "ZeroDivisionError",
     "evalue": "division by zero",
     "output_type": "error",
     "traceback": [
      "\u001b[0;31m---------------------------------------------------------------------------\u001b[0m",
      "\u001b[0;31mZeroDivisionError\u001b[0m                         Traceback (most recent call last)",
      "Cell \u001b[0;32mIn[34], line 4\u001b[0m\n\u001b[1;32m      1\u001b[0m \u001b[38;5;66;03m# unhandled exception\u001b[39;00m\n\u001b[1;32m      3\u001b[0m \u001b[38;5;28;01mtry\u001b[39;00m:\n\u001b[0;32m----> 4\u001b[0m     x \u001b[38;5;241m=\u001b[39m \u001b[38;5;241;43m1\u001b[39;49m\u001b[38;5;241;43m/\u001b[39;49m\u001b[38;5;241;43m0\u001b[39;49m\n\u001b[1;32m      5\u001b[0m \u001b[38;5;28;01mexcept\u001b[39;00m \u001b[38;5;167;01mValueError\u001b[39;00m: \u001b[38;5;66;03m#exceptions don't match\u001b[39;00m\n\u001b[1;32m      6\u001b[0m     \u001b[38;5;28mprint\u001b[39m(\u001b[38;5;124m\"\u001b[39m\u001b[38;5;124mValueError has occurred\u001b[39m\u001b[38;5;124m\"\u001b[39m)\n",
      "\u001b[0;31mZeroDivisionError\u001b[0m: division by zero"
     ]
    }
   ],
   "source": [
    "# unhandled exception\n",
    "\n",
    "try:\n",
    "    x = 1/0\n",
    "except ValueError: #exceptions don't match\n",
    "    print(\"ValueError has occurred\")"
   ]
  },
  {
   "cell_type": "markdown",
   "metadata": {
    "id": "MB-kINP4xiMb"
   },
   "source": [
    "#### The `try` statement with multiple handlers"
   ]
  },
  {
   "cell_type": "code",
   "execution_count": 35,
   "metadata": {
    "id": "jzqTpFqzqhbK"
   },
   "outputs": [
    {
     "name": "stdout",
     "output_type": "stream",
     "text": [
      "Unknown Error\n"
     ]
    }
   ],
   "source": [
    "# multiple handlers\n",
    "\n",
    "try:\n",
    "    # x = 1/0\n",
    "    import stuff\n",
    "except ValueError as err:\n",
    "    print(\"ValueError has occurred: \", err)\n",
    "except ZeroDivisionError as err:\n",
    "    print(err)\n",
    "except: #catch-all\n",
    "    print(\"Unknown Error\")\n"
   ]
  },
  {
   "cell_type": "code",
   "execution_count": 36,
   "metadata": {
    "id": "_YmvXw3rqhbK",
    "scrolled": true
   },
   "outputs": [
    {
     "name": "stdin",
     "output_type": "stream",
     "text": [
      "Please enter a number:  fdf\n"
     ]
    },
    {
     "name": "stdout",
     "output_type": "stream",
     "text": [
      "Invalid number, try again.\n"
     ]
    },
    {
     "name": "stdin",
     "output_type": "stream",
     "text": [
      "Please enter a number:  23\n"
     ]
    },
    {
     "name": "stdout",
     "output_type": "stream",
     "text": [
      "Success!\n"
     ]
    }
   ],
   "source": [
    "# example usage\n",
    "\n",
    "while True:\n",
    "    try:\n",
    "        value = int(input(\"Please enter a number: \"))\n",
    "        print(\"Success!\")\n",
    "        break\n",
    "    except ValueError:\n",
    "        print(\"Invalid number, try again.\")\n",
    "\n"
   ]
  },
  {
   "cell_type": "markdown",
   "metadata": {
    "id": "feouTzNVqhbK"
   },
   "source": [
    "#### The `finally` clause"
   ]
  },
  {
   "cell_type": "code",
   "execution_count": 38,
   "metadata": {
    "id": "LC3OHbCVqhbK"
   },
   "outputs": [
    {
     "name": "stdout",
     "output_type": "stream",
     "text": [
      "This is always executed\n"
     ]
    },
    {
     "ename": "ZeroDivisionError",
     "evalue": "division by zero",
     "output_type": "error",
     "traceback": [
      "\u001b[0;31m---------------------------------------------------------------------------\u001b[0m",
      "\u001b[0;31mZeroDivisionError\u001b[0m                         Traceback (most recent call last)",
      "Cell \u001b[0;32mIn[38], line 4\u001b[0m\n\u001b[1;32m      1\u001b[0m \u001b[38;5;66;03m# finally clause\u001b[39;00m\n\u001b[1;32m      3\u001b[0m \u001b[38;5;28;01mtry\u001b[39;00m: \n\u001b[0;32m----> 4\u001b[0m     x \u001b[38;5;241m=\u001b[39m \u001b[38;5;241;43m1\u001b[39;49m\u001b[38;5;241;43m/\u001b[39;49m\u001b[38;5;241;43m0\u001b[39;49m\n\u001b[1;32m      5\u001b[0m \u001b[38;5;28;01mexcept\u001b[39;00m \u001b[38;5;167;01mValueError\u001b[39;00m:\n\u001b[1;32m      6\u001b[0m     \u001b[38;5;28mprint\u001b[39m(\u001b[38;5;124m\"\u001b[39m\u001b[38;5;124mValueError has occurred\u001b[39m\u001b[38;5;124m\"\u001b[39m)\n",
      "\u001b[0;31mZeroDivisionError\u001b[0m: division by zero"
     ]
    }
   ],
   "source": [
    "# finally clause\n",
    "\n",
    "try: \n",
    "    x = 1/0\n",
    "except ValueError:\n",
    "    print(\"ValueError has occurred\")\n",
    "# except:\n",
    "#     print(\"catch-all\")\n",
    "finally:\n",
    "    print(\"This is always executed\")"
   ]
  },
  {
   "cell_type": "code",
   "execution_count": 39,
   "metadata": {
    "id": "CHtVk0C4qhbK"
   },
   "outputs": [],
   "source": [
    "# exercise\n",
    "\n",
    "country_codes = {\n",
    "    'Antarctica': 672,\n",
    "    'Belarus': 375,\n",
    "    'Christmas Island': 61,\n",
    "    'Djibouti': 253,\n",
    "    'Eritrea': 291\n",
    "}\n",
    "\n"
   ]
  },
  {
   "cell_type": "code",
   "execution_count": 40,
   "metadata": {},
   "outputs": [
    {
     "ename": "KeyError",
     "evalue": "'Singapore'",
     "output_type": "error",
     "traceback": [
      "\u001b[0;31m---------------------------------------------------------------------------\u001b[0m",
      "\u001b[0;31mKeyError\u001b[0m                                  Traceback (most recent call last)",
      "Cell \u001b[0;32mIn[40], line 1\u001b[0m\n\u001b[0;32m----> 1\u001b[0m \u001b[43mcountry_codes\u001b[49m\u001b[43m[\u001b[49m\u001b[38;5;124;43m'\u001b[39;49m\u001b[38;5;124;43mSingapore\u001b[39;49m\u001b[38;5;124;43m'\u001b[39;49m\u001b[43m]\u001b[49m\n",
      "\u001b[0;31mKeyError\u001b[0m: 'Singapore'"
     ]
    }
   ],
   "source": [
    "country_codes['Singapore']"
   ]
  },
  {
   "cell_type": "code",
   "execution_count": 41,
   "metadata": {},
   "outputs": [
    {
     "name": "stdin",
     "output_type": "stream",
     "text": [
      "Please enter a country:  Singapore\n"
     ]
    },
    {
     "name": "stdout",
     "output_type": "stream",
     "text": [
      "Error, country not found!\n"
     ]
    },
    {
     "name": "stdin",
     "output_type": "stream",
     "text": [
      "Please enter a country:  Antarctica\n"
     ]
    },
    {
     "name": "stdout",
     "output_type": "stream",
     "text": [
      "Country code:  672\n"
     ]
    }
   ],
   "source": [
    "while True:\n",
    "    try:\n",
    "        country = input(\"Please enter a country: \")\n",
    "        code = country_codes[country]\n",
    "        print(\"Country code: \", code)\n",
    "        break\n",
    "    except KeyError:\n",
    "        print(\"Error, country not found!\")\n",
    "    except:\n",
    "        print(\"Unrecognised input, please try again\")\n",
    "    "
   ]
  },
  {
   "cell_type": "markdown",
   "metadata": {},
   "source": [
    "#### Raising Exceptions\n"
   ]
  },
  {
   "cell_type": "code",
   "execution_count": 43,
   "metadata": {},
   "outputs": [
    {
     "name": "stdout",
     "output_type": "stream",
     "text": [
      "can only concatenate str (not \"int\") to str\n"
     ]
    }
   ],
   "source": [
    "\n",
    "try:\n",
    "    # x = 1/0\n",
    "    import stuff\n",
    "    # print(\"a string\" + 1)\n",
    "except ValueError as err:\n",
    "    print(\"ValueError has occurred: \", err)\n",
    "except ZeroDivisionError as err:\n",
    "    print(err)\n",
    "except Exception as err: #catch-all - we can show what the error is (you can try with different types of errors)\n",
    "    print(err)"
   ]
  },
  {
   "cell_type": "markdown",
   "metadata": {
    "id": "2kjXXlD3qhbL"
   },
   "source": [
    " \n",
    " \n",
    " \n",
    " "
   ]
  },
  {
   "cell_type": "code",
   "execution_count": 44,
   "metadata": {},
   "outputs": [],
   "source": [
    "# Create a function that draws a basic box - takes in symbol, width and height\n",
    "def boxPrint(symbol, height, width): \n",
    "    print(symbol * width)\n",
    "    for i in range(height - 2):\n",
    "        print(symbol + (' ' * (width - 2)) + symbol)\n",
    "    print(symbol * width)"
   ]
  },
  {
   "cell_type": "code",
   "execution_count": 45,
   "metadata": {},
   "outputs": [
    {
     "name": "stdout",
     "output_type": "stream",
     "text": [
      "**********\n",
      "*        *\n",
      "*        *\n",
      "*        *\n",
      "**********\n"
     ]
    }
   ],
   "source": [
    "boxPrint(\"*\", 5, 10)"
   ]
  },
  {
   "cell_type": "code",
   "execution_count": 47,
   "metadata": {},
   "outputs": [
    {
     "name": "stdout",
     "output_type": "stream",
     "text": [
      "***\n",
      "******\n",
      "***\n"
     ]
    }
   ],
   "source": [
    "#Do something that's not quite right:\n",
    "\n",
    "boxPrint(\"***\", 3, 1)"
   ]
  },
  {
   "cell_type": "code",
   "execution_count": 48,
   "metadata": {},
   "outputs": [],
   "source": [
    "def boxPrint(symbol, height, width): \n",
    "\n",
    "    #Customise the different Exceptions\n",
    "    if len(symbol) != 1:\n",
    "        raise Exception('The provided symbol should be a single character.')\n",
    "    if width <= 2: \n",
    "        raise Exception('Width must be greater than 2.')\n",
    "    if height <= 2:\n",
    "        raise Exception('Height must be greater than 2.')\n",
    "\n",
    "    print(symbol * width)\n",
    "    for i in range(height - 2):\n",
    "        print(symbol + (' ' * (width - 2)) + symbol)\n",
    "    print(symbol * width)"
   ]
  },
  {
   "cell_type": "code",
   "execution_count": 49,
   "metadata": {},
   "outputs": [
    {
     "name": "stdout",
     "output_type": "stream",
     "text": [
      "****\n",
      "*  *\n",
      "*  *\n",
      "****\n",
      "An error has occurred:  The provided symbol should be a single character.\n",
      "An error has occurred:  Height must be greater than 2.\n",
      "An error has occurred:  Width must be greater than 2.\n"
     ]
    }
   ],
   "source": [
    "for  sym, h, w in ((\"*\", 4, 4), (\"****\", 4, 4), (\"*\", 1, 4), (\"*\", 4, 1)):\n",
    "    try: \n",
    "        boxPrint(sym, h, w)\n",
    "        \n",
    "    except Exception as err:\n",
    "        #print out details of the Exception\n",
    "        print(\"An error has occurred: \", str(err))\n"
   ]
  },
  {
   "cell_type": "code",
   "execution_count": 50,
   "metadata": {},
   "outputs": [
    {
     "ename": "Exception",
     "evalue": "The provided symbol should be a single character.",
     "output_type": "error",
     "traceback": [
      "\u001b[0;31m---------------------------------------------------------------------------\u001b[0m",
      "\u001b[0;31mException\u001b[0m                                 Traceback (most recent call last)",
      "Cell \u001b[0;32mIn[50], line 3\u001b[0m\n\u001b[1;32m      1\u001b[0m \u001b[38;5;66;03m#Without the try handler (Exception raised, not handled):\u001b[39;00m\n\u001b[0;32m----> 3\u001b[0m \u001b[43mboxPrint\u001b[49m\u001b[43m(\u001b[49m\u001b[38;5;124;43m\"\u001b[39;49m\u001b[38;5;124;43m45734\u001b[39;49m\u001b[38;5;124;43m\"\u001b[39;49m\u001b[43m,\u001b[49m\u001b[43m \u001b[49m\u001b[38;5;241;43m12\u001b[39;49m\u001b[43m,\u001b[49m\u001b[43m \u001b[49m\u001b[38;5;241;43m12\u001b[39;49m\u001b[43m)\u001b[49m\n",
      "Cell \u001b[0;32mIn[48], line 5\u001b[0m, in \u001b[0;36mboxPrint\u001b[0;34m(symbol, height, width)\u001b[0m\n\u001b[1;32m      1\u001b[0m \u001b[38;5;28;01mdef\u001b[39;00m \u001b[38;5;21mboxPrint\u001b[39m(symbol, height, width): \n\u001b[1;32m      2\u001b[0m \n\u001b[1;32m      3\u001b[0m     \u001b[38;5;66;03m#Customise the different Exceptions\u001b[39;00m\n\u001b[1;32m      4\u001b[0m     \u001b[38;5;28;01mif\u001b[39;00m \u001b[38;5;28mlen\u001b[39m(symbol) \u001b[38;5;241m!=\u001b[39m \u001b[38;5;241m1\u001b[39m:\n\u001b[0;32m----> 5\u001b[0m         \u001b[38;5;28;01mraise\u001b[39;00m \u001b[38;5;167;01mException\u001b[39;00m(\u001b[38;5;124m'\u001b[39m\u001b[38;5;124mThe provided symbol should be a single character.\u001b[39m\u001b[38;5;124m'\u001b[39m)\n\u001b[1;32m      6\u001b[0m     \u001b[38;5;28;01mif\u001b[39;00m width \u001b[38;5;241m<\u001b[39m\u001b[38;5;241m=\u001b[39m \u001b[38;5;241m2\u001b[39m: \n\u001b[1;32m      7\u001b[0m         \u001b[38;5;28;01mraise\u001b[39;00m \u001b[38;5;167;01mException\u001b[39;00m(\u001b[38;5;124m'\u001b[39m\u001b[38;5;124mWidth must be greater than 2.\u001b[39m\u001b[38;5;124m'\u001b[39m)\n",
      "\u001b[0;31mException\u001b[0m: The provided symbol should be a single character."
     ]
    }
   ],
   "source": [
    "#Without the try handler (Exception raised, not handled):\n",
    "\n",
    "boxPrint(\"45734\", 12, 12)"
   ]
  },
  {
   "cell_type": "code",
   "execution_count": null,
   "metadata": {},
   "outputs": [],
   "source": []
  }
 ],
 "metadata": {
  "colab": {
   "provenance": []
  },
  "kernelspec": {
   "display_name": "Python 3 (ipykernel)",
   "language": "python",
   "name": "python3"
  },
  "language_info": {
   "codemirror_mode": {
    "name": "ipython",
    "version": 3
   },
   "file_extension": ".py",
   "mimetype": "text/x-python",
   "name": "python",
   "nbconvert_exporter": "python",
   "pygments_lexer": "ipython3",
   "version": "3.10.10"
  }
 },
 "nbformat": 4,
 "nbformat_minor": 4
}
